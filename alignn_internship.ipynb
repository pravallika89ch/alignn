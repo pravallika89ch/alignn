{
  "cells": [
    {
      "cell_type": "markdown",
      "metadata": {
        "id": "view-in-github",
        "colab_type": "text"
      },
      "source": [
        "<a href=\"https://colab.research.google.com/github/pravallika89ch/alignn/blob/main/alignn_internship.ipynb\" target=\"_parent\"><img src=\"https://colab.research.google.com/assets/colab-badge.svg\" alt=\"Open In Colab\"/></a>"
      ]
    },
    {
      "cell_type": "code",
      "source": [
        "%matplotlib inline\n"
      ],
      "metadata": {
        "id": "So_1OqWtEHwl"
      },
      "execution_count": 67,
      "outputs": []
    },
    {
      "cell_type": "code",
      "execution_count": null,
      "metadata": {
        "colab": {
          "base_uri": "https://localhost:8080/"
        },
        "id": "nhuftlj87jMe",
        "outputId": "44fb6897-f849-41d1-e05c-5575c350fe7d"
      },
      "outputs": [
        {
          "output_type": "stream",
          "name": "stdout",
          "text": [
            "Mounted at /content/drive\n"
          ]
        }
      ],
      "source": [
        "from google.colab import drive\n",
        "drive.mount('/content/drive')\n"
      ]
    },
    {
      "cell_type": "code",
      "execution_count": null,
      "metadata": {
        "colab": {
          "base_uri": "https://localhost:8080/"
        },
        "id": "QfDm6Bh8O45E",
        "outputId": "563693c5-042f-42fd-b47b-01000635728f"
      },
      "outputs": [
        {
          "output_type": "stream",
          "name": "stdout",
          "text": [
            "⏬ Downloading https://github.com/jaimergp/miniforge/releases/download/24.11.2-1_colab/Miniforge3-colab-24.11.2-1_colab-Linux-x86_64.sh...\n",
            "📦 Installing...\n",
            "📌 Adjusting configuration...\n",
            "🩹 Patching environment...\n",
            "⏲ Done in 0:00:15\n",
            "🔁 Restarting kernel...\n"
          ]
        }
      ],
      "source": [
        "!pip install -q condacolab\n",
        "import condacolab\n",
        "condacolab.install()\n"
      ]
    },
    {
      "cell_type": "code",
      "execution_count": null,
      "metadata": {
        "id": "6yJDLfu7kbJK"
      },
      "outputs": [],
      "source": [
        "import os\n",
        "os.environ[\"MPLBACKEND\"] = \"Agg\"\n"
      ]
    },
    {
      "cell_type": "code",
      "source": [
        "!pip install pymatgen\n"
      ],
      "metadata": {
        "colab": {
          "base_uri": "https://localhost:8080/"
        },
        "id": "diHnUmEKHQir",
        "outputId": "3fbf7007-4a1f-418e-94d5-140d5510b864"
      },
      "execution_count": 72,
      "outputs": [
        {
          "output_type": "stream",
          "name": "stdout",
          "text": [
            "Collecting pymatgen\n",
            "  Downloading pymatgen-2025.6.14-cp311-cp311-manylinux_2_17_x86_64.manylinux2014_x86_64.whl.metadata (13 kB)\n",
            "Collecting bibtexparser>=1.4.0 (from pymatgen)\n",
            "  Downloading bibtexparser-1.4.3.tar.gz (55 kB)\n",
            "  Preparing metadata (setup.py) ... \u001b[?25l\u001b[?25hdone\n",
            "Requirement already satisfied: joblib>=1 in /usr/local/lib/python3.11/site-packages (from pymatgen) (1.5.1)\n",
            "Requirement already satisfied: matplotlib>=3.8 in /usr/local/lib/python3.11/site-packages (from pymatgen) (3.10.3)\n",
            "Collecting monty>=2025.1.9 (from pymatgen)\n",
            "  Downloading monty-2025.3.3-py3-none-any.whl.metadata (3.6 kB)\n",
            "Requirement already satisfied: networkx>=2.7 in /usr/local/lib/python3.11/site-packages (from pymatgen) (3.5)\n",
            "Requirement already satisfied: numpy<3,>=1.25.0 in /usr/local/lib/python3.11/site-packages (from pymatgen) (1.26.4)\n",
            "Collecting orjson<4,>=3.10 (from pymatgen)\n",
            "  Downloading orjson-3.10.18-cp311-cp311-manylinux_2_17_x86_64.manylinux2014_x86_64.whl.metadata (41 kB)\n",
            "Collecting palettable>=3.3.3 (from pymatgen)\n",
            "  Downloading palettable-3.3.3-py2.py3-none-any.whl.metadata (3.3 kB)\n",
            "Requirement already satisfied: pandas>=2 in /usr/local/lib/python3.11/site-packages (from pymatgen) (2.3.0)\n",
            "Collecting plotly>=5.0.0 (from pymatgen)\n",
            "  Downloading plotly-6.2.0-py3-none-any.whl.metadata (8.5 kB)\n",
            "Requirement already satisfied: requests>=2.32 in /usr/local/lib/python3.11/site-packages (from pymatgen) (2.32.3)\n",
            "Requirement already satisfied: ruamel.yaml>=0.17.0 in /usr/local/lib/python3.11/site-packages (from pymatgen) (0.18.10)\n",
            "Requirement already satisfied: scipy>=1.13.0 in /usr/local/lib/python3.11/site-packages (from pymatgen) (1.16.0)\n",
            "Requirement already satisfied: spglib>=2.5 in /usr/local/lib/python3.11/site-packages (from pymatgen) (2.6.0)\n",
            "Requirement already satisfied: sympy>=1.3 in /usr/local/lib/python3.11/site-packages (from pymatgen) (1.14.0)\n",
            "Collecting tabulate>=0.9 (from pymatgen)\n",
            "  Downloading tabulate-0.9.0-py3-none-any.whl.metadata (34 kB)\n",
            "Requirement already satisfied: tqdm>=4.60 in /usr/local/lib/python3.11/site-packages (from pymatgen) (4.67.1)\n",
            "Collecting uncertainties>=3.1.4 (from pymatgen)\n",
            "  Downloading uncertainties-3.2.3-py3-none-any.whl.metadata (7.0 kB)\n",
            "Requirement already satisfied: pyparsing>=2.0.3 in /usr/local/lib/python3.11/site-packages (from bibtexparser>=1.4.0->pymatgen) (2.4.7)\n",
            "Requirement already satisfied: contourpy>=1.0.1 in /usr/local/lib/python3.11/site-packages (from matplotlib>=3.8->pymatgen) (1.3.2)\n",
            "Requirement already satisfied: cycler>=0.10 in /usr/local/lib/python3.11/site-packages (from matplotlib>=3.8->pymatgen) (0.12.1)\n",
            "Requirement already satisfied: fonttools>=4.22.0 in /usr/local/lib/python3.11/site-packages (from matplotlib>=3.8->pymatgen) (4.58.4)\n",
            "Requirement already satisfied: kiwisolver>=1.3.1 in /usr/local/lib/python3.11/site-packages (from matplotlib>=3.8->pymatgen) (1.4.8)\n",
            "Requirement already satisfied: packaging>=20.0 in /usr/local/lib/python3.11/site-packages (from matplotlib>=3.8->pymatgen) (24.2)\n",
            "Requirement already satisfied: pillow>=8 in /usr/local/lib/python3.11/site-packages (from matplotlib>=3.8->pymatgen) (11.3.0)\n",
            "Requirement already satisfied: python-dateutil>=2.7 in /usr/local/lib/python3.11/site-packages (from matplotlib>=3.8->pymatgen) (2.9.0.post0)\n",
            "Requirement already satisfied: pytz>=2020.1 in /usr/local/lib/python3.11/site-packages (from pandas>=2->pymatgen) (2025.2)\n",
            "Requirement already satisfied: tzdata>=2022.7 in /usr/local/lib/python3.11/site-packages (from pandas>=2->pymatgen) (2025.2)\n",
            "Collecting narwhals>=1.15.1 (from plotly>=5.0.0->pymatgen)\n",
            "  Downloading narwhals-1.45.0-py3-none-any.whl.metadata (11 kB)\n",
            "Requirement already satisfied: charset_normalizer<4,>=2 in /usr/local/lib/python3.11/site-packages (from requests>=2.32->pymatgen) (3.4.1)\n",
            "Requirement already satisfied: idna<4,>=2.5 in /usr/local/lib/python3.11/site-packages (from requests>=2.32->pymatgen) (3.10)\n",
            "Requirement already satisfied: urllib3<3,>=1.21.1 in /usr/local/lib/python3.11/site-packages (from requests>=2.32->pymatgen) (2.3.0)\n",
            "Requirement already satisfied: certifi>=2017.4.17 in /usr/local/lib/python3.11/site-packages (from requests>=2.32->pymatgen) (2024.12.14)\n",
            "Requirement already satisfied: ruamel.yaml.clib>=0.2.7 in /usr/local/lib/python3.11/site-packages (from ruamel.yaml>=0.17.0->pymatgen) (0.2.8)\n",
            "Requirement already satisfied: typing-extensions>=4.9.0 in /usr/local/lib/python3.11/site-packages (from spglib>=2.5->pymatgen) (4.14.0)\n",
            "Requirement already satisfied: mpmath<1.4,>=1.1.0 in /usr/local/lib/python3.11/site-packages (from sympy>=1.3->pymatgen) (1.3.0)\n",
            "Requirement already satisfied: six>=1.5 in /usr/local/lib/python3.11/site-packages (from python-dateutil>=2.7->matplotlib>=3.8->pymatgen) (1.17.0)\n",
            "Downloading pymatgen-2025.6.14-cp311-cp311-manylinux_2_17_x86_64.manylinux2014_x86_64.whl (5.1 MB)\n",
            "\u001b[2K   \u001b[90m━━━━━━━━━━━━━━━━━━━━━━━━━━━━━━━━━━━━━━━━\u001b[0m \u001b[32m5.1/5.1 MB\u001b[0m \u001b[31m37.6 MB/s\u001b[0m eta \u001b[36m0:00:00\u001b[0m\n",
            "\u001b[?25hDownloading monty-2025.3.3-py3-none-any.whl (51 kB)\n",
            "Downloading orjson-3.10.18-cp311-cp311-manylinux_2_17_x86_64.manylinux2014_x86_64.whl (132 kB)\n",
            "Downloading palettable-3.3.3-py2.py3-none-any.whl (332 kB)\n",
            "Downloading plotly-6.2.0-py3-none-any.whl (9.6 MB)\n",
            "\u001b[2K   \u001b[90m━━━━━━━━━━━━━━━━━━━━━━━━━━━━━━━━━━━━━━━━\u001b[0m \u001b[32m9.6/9.6 MB\u001b[0m \u001b[31m58.0 MB/s\u001b[0m eta \u001b[36m0:00:00\u001b[0m\n",
            "\u001b[?25hDownloading tabulate-0.9.0-py3-none-any.whl (35 kB)\n",
            "Downloading uncertainties-3.2.3-py3-none-any.whl (60 kB)\n",
            "Downloading narwhals-1.45.0-py3-none-any.whl (371 kB)\n",
            "Building wheels for collected packages: bibtexparser\n",
            "  Building wheel for bibtexparser (setup.py) ... \u001b[?25l\u001b[?25hdone\n",
            "  Created wheel for bibtexparser: filename=bibtexparser-1.4.3-py3-none-any.whl size=43549 sha256=fab11768851197159123f2b4dafbfef72ded057534797a77ae18eb861214e20a\n",
            "  Stored in directory: /root/.cache/pip/wheels/16/fb/76/306387739cf9d53b1c39b0c8aadbbb17dc05f256756d8fd915\n",
            "Successfully built bibtexparser\n",
            "Installing collected packages: uncertainties, tabulate, palettable, orjson, narwhals, bibtexparser, plotly, monty, pymatgen\n",
            "Successfully installed bibtexparser-1.4.3 monty-2025.3.3 narwhals-1.45.0 orjson-3.10.18 palettable-3.3.3 plotly-6.2.0 pymatgen-2025.6.14 tabulate-0.9.0 uncertainties-3.2.3\n"
          ]
        }
      ]
    },
    {
      "cell_type": "code",
      "source": [
        "from jarvis.core.atoms import Atoms\n"
      ],
      "metadata": {
        "id": "BMFEu9DjIApn"
      },
      "execution_count": 76,
      "outputs": []
    },
    {
      "cell_type": "code",
      "execution_count": null,
      "metadata": {
        "colab": {
          "base_uri": "https://localhost:8080/"
        },
        "id": "-X2tWj7UQi3Y",
        "outputId": "7d598e86-97b3-46af-b66e-72190d834d12"
      },
      "outputs": [
        {
          "output_type": "stream",
          "name": "stdout",
          "text": [
            "Channels:\n",
            " - conda-forge\n",
            "Platform: linux-64\n",
            "Collecting package metadata (repodata.json): - \b\b\\ \b\b| \b\b/ \b\b- \b\b\\ \b\b| \b\b/ \b\bfailed\n",
            "\n",
            "CondaError: KeyboardInterrupt\n",
            "\n",
            "Requirement already satisfied: jarvis-tools in /usr/local/lib/python3.11/site-packages (2025.5.30)\n",
            "Requirement already satisfied: alignn in /usr/local/lib/python3.11/site-packages (2025.4.1)\n",
            "Requirement already satisfied: torchdata in /usr/local/lib/python3.11/site-packages (0.11.0)\n",
            "Requirement already satisfied: dgl==1.1.1 in /usr/local/lib/python3.11/site-packages (1.1.1)\n",
            "Requirement already satisfied: numpy>=1.14.0 in /usr/local/lib/python3.11/site-packages (from dgl==1.1.1) (1.26.4)\n",
            "Requirement already satisfied: scipy>=1.1.0 in /usr/local/lib/python3.11/site-packages (from dgl==1.1.1) (1.16.0)\n",
            "Requirement already satisfied: networkx>=2.1 in /usr/local/lib/python3.11/site-packages (from dgl==1.1.1) (3.5)\n",
            "Requirement already satisfied: requests>=2.19.0 in /usr/local/lib/python3.11/site-packages (from dgl==1.1.1) (2.32.3)\n",
            "Requirement already satisfied: tqdm in /usr/local/lib/python3.11/site-packages (from dgl==1.1.1) (4.67.1)\n",
            "Requirement already satisfied: psutil>=5.8.0 in /usr/local/lib/python3.11/site-packages (from dgl==1.1.1) (7.0.0)\n",
            "Requirement already satisfied: matplotlib>=3.0.0 in /usr/local/lib/python3.11/site-packages (from jarvis-tools) (3.10.3)\n",
            "Requirement already satisfied: joblib>=0.14.1 in /usr/local/lib/python3.11/site-packages (from jarvis-tools) (1.5.1)\n",
            "Requirement already satisfied: toolz>=0.9.0 in /usr/local/lib/python3.11/site-packages (from jarvis-tools) (1.0.0)\n",
            "Requirement already satisfied: xmltodict>=0.11.0 in /usr/local/lib/python3.11/site-packages (from jarvis-tools) (0.14.2)\n",
            "Requirement already satisfied: scikit-learn in /usr/local/lib/python3.11/site-packages (from jarvis-tools) (1.7.0)\n",
            "Requirement already satisfied: torch<=2.2.1 in /usr/local/lib/python3.11/site-packages (from alignn) (2.2.1)\n",
            "Requirement already satisfied: mpmath<=1.3.0 in /usr/local/lib/python3.11/site-packages (from alignn) (1.3.0)\n",
            "Requirement already satisfied: spglib>=2.0.2 in /usr/local/lib/python3.11/site-packages (from alignn) (2.6.0)\n",
            "Requirement already satisfied: pandas>=1.2.3 in /usr/local/lib/python3.11/site-packages (from alignn) (2.3.0)\n",
            "Requirement already satisfied: pydantic>=1.8.1 in /usr/local/lib/python3.11/site-packages (from alignn) (2.11.7)\n",
            "Requirement already satisfied: pydantic-settings in /usr/local/lib/python3.11/site-packages (from alignn) (2.10.1)\n",
            "Requirement already satisfied: flake8>=3.9.1 in /usr/local/lib/python3.11/site-packages (from alignn) (7.3.0)\n",
            "Requirement already satisfied: pycodestyle>=2.7.0 in /usr/local/lib/python3.11/site-packages (from alignn) (2.14.0)\n",
            "Requirement already satisfied: pydocstyle>=6.0.0 in /usr/local/lib/python3.11/site-packages (from alignn) (6.3.0)\n",
            "Requirement already satisfied: pyparsing<3,>=2.2.1 in /usr/local/lib/python3.11/site-packages (from alignn) (2.4.7)\n",
            "Requirement already satisfied: ase in /usr/local/lib/python3.11/site-packages (from alignn) (3.25.0)\n",
            "Requirement already satisfied: lmdb in /usr/local/lib/python3.11/site-packages (from alignn) (1.6.2)\n",
            "Requirement already satisfied: urllib3>=1.25 in /usr/local/lib/python3.11/site-packages (from torchdata) (2.3.0)\n",
            "Requirement already satisfied: mccabe<0.8.0,>=0.7.0 in /usr/local/lib/python3.11/site-packages (from flake8>=3.9.1->alignn) (0.7.0)\n",
            "Requirement already satisfied: pyflakes<3.5.0,>=3.4.0 in /usr/local/lib/python3.11/site-packages (from flake8>=3.9.1->alignn) (3.4.0)\n",
            "Requirement already satisfied: contourpy>=1.0.1 in /usr/local/lib/python3.11/site-packages (from matplotlib>=3.0.0->jarvis-tools) (1.3.2)\n",
            "Requirement already satisfied: cycler>=0.10 in /usr/local/lib/python3.11/site-packages (from matplotlib>=3.0.0->jarvis-tools) (0.12.1)\n",
            "Requirement already satisfied: fonttools>=4.22.0 in /usr/local/lib/python3.11/site-packages (from matplotlib>=3.0.0->jarvis-tools) (4.58.4)\n",
            "Requirement already satisfied: kiwisolver>=1.3.1 in /usr/local/lib/python3.11/site-packages (from matplotlib>=3.0.0->jarvis-tools) (1.4.8)\n",
            "Requirement already satisfied: packaging>=20.0 in /usr/local/lib/python3.11/site-packages (from matplotlib>=3.0.0->jarvis-tools) (24.2)\n",
            "Requirement already satisfied: pillow>=8 in /usr/local/lib/python3.11/site-packages (from matplotlib>=3.0.0->jarvis-tools) (11.3.0)\n",
            "Requirement already satisfied: python-dateutil>=2.7 in /usr/local/lib/python3.11/site-packages (from matplotlib>=3.0.0->jarvis-tools) (2.9.0.post0)\n",
            "Requirement already satisfied: pytz>=2020.1 in /usr/local/lib/python3.11/site-packages (from pandas>=1.2.3->alignn) (2025.2)\n",
            "Requirement already satisfied: tzdata>=2022.7 in /usr/local/lib/python3.11/site-packages (from pandas>=1.2.3->alignn) (2025.2)\n",
            "Requirement already satisfied: annotated-types>=0.6.0 in /usr/local/lib/python3.11/site-packages (from pydantic>=1.8.1->alignn) (0.7.0)\n",
            "Requirement already satisfied: pydantic-core==2.33.2 in /usr/local/lib/python3.11/site-packages (from pydantic>=1.8.1->alignn) (2.33.2)\n",
            "Requirement already satisfied: typing-extensions>=4.12.2 in /usr/local/lib/python3.11/site-packages (from pydantic>=1.8.1->alignn) (4.14.0)\n",
            "Requirement already satisfied: typing-inspection>=0.4.0 in /usr/local/lib/python3.11/site-packages (from pydantic>=1.8.1->alignn) (0.4.1)\n",
            "Requirement already satisfied: snowballstemmer>=2.2.0 in /usr/local/lib/python3.11/site-packages (from pydocstyle>=6.0.0->alignn) (3.0.1)\n",
            "Requirement already satisfied: charset_normalizer<4,>=2 in /usr/local/lib/python3.11/site-packages (from requests>=2.19.0->dgl==1.1.1) (3.4.1)\n",
            "Requirement already satisfied: idna<4,>=2.5 in /usr/local/lib/python3.11/site-packages (from requests>=2.19.0->dgl==1.1.1) (3.10)\n",
            "Requirement already satisfied: certifi>=2017.4.17 in /usr/local/lib/python3.11/site-packages (from requests>=2.19.0->dgl==1.1.1) (2024.12.14)\n",
            "Requirement already satisfied: threadpoolctl>=3.1.0 in /usr/local/lib/python3.11/site-packages (from scikit-learn->jarvis-tools) (3.6.0)\n",
            "Requirement already satisfied: filelock in /usr/local/lib/python3.11/site-packages (from torch<=2.2.1->alignn) (3.18.0)\n",
            "Requirement already satisfied: sympy in /usr/local/lib/python3.11/site-packages (from torch<=2.2.1->alignn) (1.14.0)\n",
            "Requirement already satisfied: jinja2 in /usr/local/lib/python3.11/site-packages (from torch<=2.2.1->alignn) (3.1.6)\n",
            "Requirement already satisfied: fsspec in /usr/local/lib/python3.11/site-packages (from torch<=2.2.1->alignn) (2025.5.1)\n",
            "Requirement already satisfied: nvidia-cuda-nvrtc-cu12==12.1.105 in /usr/local/lib/python3.11/site-packages (from torch<=2.2.1->alignn) (12.1.105)\n",
            "Requirement already satisfied: nvidia-cuda-runtime-cu12==12.1.105 in /usr/local/lib/python3.11/site-packages (from torch<=2.2.1->alignn) (12.1.105)\n",
            "Requirement already satisfied: nvidia-cuda-cupti-cu12==12.1.105 in /usr/local/lib/python3.11/site-packages (from torch<=2.2.1->alignn) (12.1.105)\n",
            "Requirement already satisfied: nvidia-cudnn-cu12==8.9.2.26 in /usr/local/lib/python3.11/site-packages (from torch<=2.2.1->alignn) (8.9.2.26)\n",
            "Requirement already satisfied: nvidia-cublas-cu12==12.1.3.1 in /usr/local/lib/python3.11/site-packages (from torch<=2.2.1->alignn) (12.1.3.1)\n",
            "Requirement already satisfied: nvidia-cufft-cu12==11.0.2.54 in /usr/local/lib/python3.11/site-packages (from torch<=2.2.1->alignn) (11.0.2.54)\n",
            "Requirement already satisfied: nvidia-curand-cu12==10.3.2.106 in /usr/local/lib/python3.11/site-packages (from torch<=2.2.1->alignn) (10.3.2.106)\n",
            "Requirement already satisfied: nvidia-cusolver-cu12==11.4.5.107 in /usr/local/lib/python3.11/site-packages (from torch<=2.2.1->alignn) (11.4.5.107)\n",
            "Requirement already satisfied: nvidia-cusparse-cu12==12.1.0.106 in /usr/local/lib/python3.11/site-packages (from torch<=2.2.1->alignn) (12.1.0.106)\n",
            "Requirement already satisfied: nvidia-nccl-cu12==2.19.3 in /usr/local/lib/python3.11/site-packages (from torch<=2.2.1->alignn) (2.19.3)\n",
            "Requirement already satisfied: nvidia-nvtx-cu12==12.1.105 in /usr/local/lib/python3.11/site-packages (from torch<=2.2.1->alignn) (12.1.105)\n",
            "Requirement already satisfied: triton==2.2.0 in /usr/local/lib/python3.11/site-packages (from torch<=2.2.1->alignn) (2.2.0)\n",
            "Requirement already satisfied: nvidia-nvjitlink-cu12 in /usr/local/lib/python3.11/site-packages (from nvidia-cusolver-cu12==11.4.5.107->torch<=2.2.1->alignn) (12.9.86)\n",
            "Requirement already satisfied: python-dotenv>=0.21.0 in /usr/local/lib/python3.11/site-packages (from pydantic-settings->alignn) (1.1.1)\n",
            "Requirement already satisfied: six>=1.5 in /usr/local/lib/python3.11/site-packages (from python-dateutil>=2.7->matplotlib>=3.0.0->jarvis-tools) (1.17.0)\n",
            "Requirement already satisfied: MarkupSafe>=2.0 in /usr/local/lib/python3.11/site-packages (from jinja2->torch<=2.2.1->alignn) (3.0.2)\n"
          ]
        }
      ],
      "source": [
        "!conda install -y numpy=1.23.5 pandas=1.5.3 python=3.10\n",
        "!pip install jarvis-tools alignn torchdata dgl==1.1.1\n",
        "\n"
      ]
    },
    {
      "cell_type": "code",
      "execution_count": null,
      "metadata": {
        "colab": {
          "base_uri": "https://localhost:8080/"
        },
        "id": "YGMI6eL4Q4tq",
        "outputId": "6e84e35c-df70-40bd-e914-b6af60106f91"
      },
      "outputs": [
        {
          "output_type": "stream",
          "name": "stdout",
          "text": [
            "Dataset JSON created: co2_dataset.json\n"
          ]
        }
      ],
      "source": [
        "import pandas as pd\n",
        "import json\n",
        "import os\n",
        "from jarvis.core.atoms import Atoms\n",
        "\n",
        "# Set your folder paths\n",
        "csv_path = \"/content/drive/MyDrive/Internship/tmdc-co2-meoh/dataset/opentmdc/co2.vaspfiles/id_prop.csv\"\n",
        "vasp_folder = \"/content/drive/MyDrive/Internship/tmdc-co2-meoh/dataset/opentmdc/co2.vaspfiles\"\n",
        "output_json = \"co2_dataset.json\"\n",
        "\n",
        "# Load CSV\n",
        "df = pd.read_csv(csv_path)\n",
        "\n",
        "# Prepare dataset list\n",
        "dataset = []\n",
        "for i, row in df.iterrows():\n",
        "    vasp_file = os.path.join(vasp_folder, row['id'])\n",
        "    atoms = Atoms.from_poscar(vasp_file)\n",
        "    dataset.append({\n",
        "        \"structure\": atoms.to_dict(),\n",
        "        \"target\": float(row['adsorption_energy (eV)']),\n",
        "        \"jid\": row['id']\n",
        "    })\n",
        "\n",
        "# Save JSON\n",
        "with open(output_json, \"w\") as f:\n",
        "    json.dump(dataset, f, indent=2)\n",
        "\n",
        "print(\"Dataset JSON created:\", output_json)"
      ]
    },
    {
      "cell_type": "code",
      "execution_count": null,
      "metadata": {
        "colab": {
          "base_uri": "https://localhost:8080/"
        },
        "id": "XxrMOxDuSiDG",
        "outputId": "0b707829-a496-4885-ade8-529600fbfe9e"
      },
      "outputs": [
        {
          "output_type": "stream",
          "name": "stdout",
          "text": [
            "Fixed file written as co2_dataset_fixed.json\n"
          ]
        }
      ],
      "source": [
        "import json\n",
        "\n",
        "# Load the original file\n",
        "with open(\"co2_dataset.json\", \"r\") as f:\n",
        "    data = json.load(f)\n",
        "\n",
        "# Fix structure ➝ atoms\n",
        "for entry in data:\n",
        "    entry[\"atoms\"] = entry.pop(\"structure\")\n",
        "\n",
        "# Save it back\n",
        "with open(\"co2_dataset_fixed.json\", \"w\") as f:\n",
        "    json.dump(data, f, indent=2)\n",
        "\n",
        "print(\"Fixed file written as co2_dataset_fixed.json\")"
      ]
    },
    {
      "cell_type": "code",
      "execution_count": null,
      "metadata": {
        "colab": {
          "base_uri": "https://localhost:8080/"
        },
        "id": "Rrziv22ESoGz",
        "outputId": "77bf804b-85d7-4042-8ff6-847a93b7ff3c"
      },
      "outputs": [
        {
          "output_type": "stream",
          "name": "stdout",
          "text": [
            "✅ train/val/test JSON files created.\n"
          ]
        }
      ],
      "source": [
        "import json, random\n",
        "\n",
        "with open(\"co2_dataset_fixed.json\") as f:\n",
        "    data = json.load(f)\n",
        "\n",
        "# Shuffle for randomness\n",
        "random.shuffle(data)\n",
        "\n",
        "# Split\n",
        "train, val, test = data[:30], data[30:33], data[33:36]\n",
        "\n",
        "# Save\n",
        "with open(\"train.json\", \"w\") as f: json.dump(train, f, indent=2)\n",
        "with open(\"val.json\", \"w\") as f: json.dump(val, f, indent=2)\n",
        "with open(\"test.json\", \"w\") as f: json.dump(test, f, indent=2)\n",
        "\n",
        "print(\"✅ train/val/test JSON files created.\")"
      ]
    },
    {
      "cell_type": "code",
      "execution_count": null,
      "metadata": {
        "colab": {
          "base_uri": "https://localhost:8080/"
        },
        "id": "CC31tvtmStY5",
        "outputId": "3bf0bba5-ff56-41d3-d8b7-d372d06a069a"
      },
      "outputs": [
        {
          "output_type": "stream",
          "name": "stdout",
          "text": [
            "✅ Total training samples: 30\n"
          ]
        }
      ],
      "source": [
        "import json\n",
        "\n",
        "with open(\"train.json\", \"r\") as f:\n",
        "    train_data = json.load(f)\n",
        "\n",
        "print(f\"✅ Total training samples: {len(train_data)}\")\n"
      ]
    },
    {
      "cell_type": "markdown",
      "metadata": {
        "id": "zZZABoobUrLJ"
      },
      "source": []
    },
    {
      "cell_type": "code",
      "source": [
        "config = {\n",
        "    \"version\": \"1.0\",\n",
        "    \"filename\": \"co2_dataset_fixed.json\",\n",
        "    \"dataset\": \"user_data\",\n",
        "    \"use_lmdb\": False,\n",
        "    \"target\": \"target\",\n",
        "    \"id_tag\": \"jid\",\n",
        "    \"atom_features\": \"cgcnn\",\n",
        "    \"neighbor_strategy\": \"k-nearest\",\n",
        "    \"dtype\": \"float32\",\n",
        "    \"random_seed\": 42,\n",
        "    \"n_train\": 30,\n",
        "    \"n_val\": 3,\n",
        "    \"n_test\": 3,\n",
        "    \"train_ratio\": None,\n",
        "    \"val_ratio\": None,\n",
        "    \"test_ratio\": None,\n",
        "    \"epochs\": 300,\n",
        "    \"batch_size\": 16,\n",
        "    \"weight_decay\": 1e-5,\n",
        "    \"learning_rate\": 0.001,\n",
        "    \"warmup_steps\": 2000,\n",
        "    \"criterion\": \"mse\",\n",
        "    \"optimizer\": \"adamw\",\n",
        "    \"scheduler\": \"onecycle\",\n",
        "    \"pin_memory\": False,\n",
        "    \"save_dataloader\": False,\n",
        "    \"write_checkpoint\": True,\n",
        "    \"write_predictions\": True,\n",
        "    \"store_outputs\": True,\n",
        "    \"progress\": True,\n",
        "    \"log_tensorboard\": False,\n",
        "    \"standard_scalar_and_pca\": False,\n",
        "    \"use_canonize\": False,\n",
        "    \"compute_line_graph\": True,\n",
        "    \"num_workers\": 2,\n",
        "    \"cutoff\": 6.0,\n",
        "    \"cutoff_extra\": 2.0,\n",
        "    \"max_neighbors\": 12,\n",
        "    \"keep_data_order\": True,\n",
        "    \"normalize_graph_level_loss\": False,\n",
        "    \"distributed\": False,\n",
        "    \"data_parallel\": False,\n",
        "    \"n_early_stopping\": None,\n",
        "    \"output_dir\": \"TMDC_Results\",\n",
        "\n",
        "    \"model\": {\n",
        "        \"name\": \"alignn\",\n",
        "        \"alignn_layers\": 4,\n",
        "        \"gcn_layers\": 4,\n",
        "        \"atom_input_features\": 92,\n",
        "        \"edge_input_features\": 80,\n",
        "        \"triplet_input_features\": 40,\n",
        "        \"embedding_features\": 64,\n",
        "        \"hidden_features\": 256,\n",
        "        \"output_features\": 1,\n",
        "        \"link\": \"identity\",\n",
        "        \"zero_inflated\": False,\n",
        "        \"classification\": False,\n",
        "        \"num_classes\": 2,\n",
        "        \"extra_features\": 0\n",
        "    }\n",
        "}\n"
      ],
      "metadata": {
        "id": "VVWV35aYTw0V"
      },
      "execution_count": 52,
      "outputs": []
    },
    {
      "cell_type": "code",
      "execution_count": 53,
      "metadata": {
        "colab": {
          "base_uri": "https://localhost:8080/"
        },
        "id": "uk9RX-dPbUv7",
        "outputId": "c5dc4383-7008-4723-f1d2-3f1a599e1178"
      },
      "outputs": [
        {
          "output_type": "stream",
          "name": "stdout",
          "text": [
            "✅ Config saved successfully!\n"
          ]
        }
      ],
      "source": [
        "import json\n",
        "\n",
        "with open(\"configfile.json\", \"w\") as f:\n",
        "    json.dump(config, f, indent=2)\n",
        "\n",
        "print(\"✅ Config saved successfully!\")\n"
      ]
    },
    {
      "cell_type": "code",
      "execution_count": 54,
      "metadata": {
        "colab": {
          "base_uri": "https://localhost:8080/"
        },
        "id": "n0koQAolUTJP",
        "outputId": "4996931b-c88c-423a-c391-7e3f2496108d"
      },
      "outputs": [
        {
          "output_type": "stream",
          "name": "stdout",
          "text": [
            "env: MPLBACKEND=Agg\n"
          ]
        }
      ],
      "source": [
        "%env MPLBACKEND=Agg\n"
      ]
    },
    {
      "cell_type": "code",
      "execution_count": null,
      "metadata": {
        "colab": {
          "base_uri": "https://localhost:8080/"
        },
        "id": "7STL6QgLVrCm",
        "outputId": "e9b131c4-5031-4753-e403-c386d3f9dfae"
      },
      "outputs": [
        {
          "output_type": "stream",
          "name": "stdout",
          "text": [
            "Cloning into 'alignn'...\n",
            "remote: Enumerating objects: 5324, done.\u001b[K\n",
            "remote: Counting objects: 100% (1645/1645), done.\u001b[K\n",
            "remote: Compressing objects: 100% (555/555), done.\u001b[K\n",
            "remote: Total 5324 (delta 1341), reused 1117 (delta 1089), pack-reused 3679 (from 3)\u001b[K\n",
            "Receiving objects: 100% (5324/5324), 155.11 MiB | 22.02 MiB/s, done.\n",
            "Resolving deltas: 100% (3247/3247), done.\n"
          ]
        }
      ],
      "source": [
        "!git clone https://github.com/usnistgov/alignn.git"
      ]
    },
    {
      "cell_type": "code",
      "execution_count": 55,
      "metadata": {
        "id": "k1xLs4zFbBlH"
      },
      "outputs": [],
      "source": [
        "import os\n",
        "os.environ[\"MPLBACKEND\"] = \"Agg\"\n",
        "import matplotlib\n",
        "matplotlib.use(\"Agg\")\n"
      ]
    },
    {
      "cell_type": "code",
      "source": [
        "import json\n",
        "\n",
        "with open(\"co2_dataset_fixed.json\") as f:\n",
        "    data = json.load(f)\n",
        "\n",
        "print(f\"📦 Loaded {len(data)} entries\")\n",
        "print(\"🔑 First record keys:\", data[0].keys() if data else \"Empty dataset\")\n"
      ],
      "metadata": {
        "colab": {
          "base_uri": "https://localhost:8080/"
        },
        "id": "ecRSMARvoqm8",
        "outputId": "6ba5eb35-089b-4657-97aa-6f909882e41d"
      },
      "execution_count": 56,
      "outputs": [
        {
          "output_type": "stream",
          "name": "stdout",
          "text": [
            "📦 Loaded 36 entries\n",
            "🔑 First record keys: dict_keys(['target', 'jid', 'atoms'])\n"
          ]
        }
      ]
    },
    {
      "cell_type": "code",
      "execution_count": 57,
      "metadata": {
        "colab": {
          "base_uri": "https://localhost:8080/"
        },
        "id": "O96-4uAzKqGa",
        "outputId": "92e12ad1-8998-43ee-d9e6-0759beaa1656"
      },
      "outputs": [
        {
          "output_type": "stream",
          "name": "stdout",
          "text": [
            "✅ alignn loaded from: /content/alignn/alignn/__init__.py\n",
            "fatal: not a git repository (or any of the parent directories): .git\n",
            "/content/alignn/alignn/train.py:82: PydanticDeprecatedSince20: The `dict` method is deprecated; use `model_dump` instead. Deprecated in Pydantic V2.0 to be removed in V3.0. See Pydantic V2 Migration Guide at https://errors.pydantic.dev/2.11/migration/\n",
            "  print(\"config:\", config.dict())\n",
            "config: {'version': '1.0', 'dataset': 'user_data', 'target': 'target', 'atom_features': 'cgcnn', 'neighbor_strategy': 'k-nearest', 'id_tag': 'jid', 'dtype': 'float32', 'random_seed': 42, 'classification_threshold': None, 'n_val': 3, 'n_test': 3, 'n_train': 30, 'train_ratio': None, 'val_ratio': None, 'test_ratio': None, 'target_multiplication_factor': None, 'epochs': 300, 'batch_size': 16, 'weight_decay': 1e-05, 'learning_rate': 0.001, 'filename': 'co2_dataset_fixed.json', 'warmup_steps': 2000, 'criterion': 'mse', 'optimizer': 'adamw', 'scheduler': 'onecycle', 'pin_memory': False, 'save_dataloader': False, 'write_checkpoint': True, 'write_predictions': True, 'store_outputs': True, 'progress': True, 'log_tensorboard': False, 'standard_scalar_and_pca': False, 'use_canonize': False, 'compute_line_graph': True, 'num_workers': 2, 'cutoff': 6.0, 'cutoff_extra': 2.0, 'max_neighbors': 12, 'keep_data_order': True, 'normalize_graph_level_loss': False, 'distributed': False, 'data_parallel': False, 'n_early_stopping': None, 'output_dir': 'TMDC_Results', 'use_lmdb': False, 'model': {'name': 'alignn', 'alignn_layers': 4, 'gcn_layers': 4, 'atom_input_features': 92, 'edge_input_features': 80, 'triplet_input_features': 40, 'embedding_features': 64, 'hidden_features': 256, 'output_features': 1, 'link': 'identity', 'zero_inflated': False, 'classification': False, 'num_classes': 2, 'extra_features': 0}}\n",
            "/content/alignn/alignn/train.py:89: PydanticDeprecatedSince20: The `dict` method is deprecated; use `model_dump` instead. Deprecated in Pydantic V2.0 to be removed in V3.0. See Pydantic V2 Migration Guide at https://errors.pydantic.dev/2.11/migration/\n",
            "  tmp = config.dict()\n",
            "{'atom_features': 'cgcnn',\n",
            " 'batch_size': 16,\n",
            " 'classification_threshold': None,\n",
            " 'compute_line_graph': True,\n",
            " 'criterion': 'mse',\n",
            " 'cutoff': 6.0,\n",
            " 'cutoff_extra': 2.0,\n",
            " 'data_parallel': False,\n",
            " 'dataset': 'user_data',\n",
            " 'distributed': False,\n",
            " 'dtype': 'float32',\n",
            " 'epochs': 300,\n",
            " 'filename': 'co2_dataset_fixed.json',\n",
            " 'id_tag': 'jid',\n",
            " 'keep_data_order': True,\n",
            " 'learning_rate': 0.001,\n",
            " 'log_tensorboard': False,\n",
            " 'max_neighbors': 12,\n",
            " 'model': {'alignn_layers': 4,\n",
            "           'atom_input_features': 92,\n",
            "           'classification': False,\n",
            "           'edge_input_features': 80,\n",
            "           'embedding_features': 64,\n",
            "           'extra_features': 0,\n",
            "           'gcn_layers': 4,\n",
            "           'hidden_features': 256,\n",
            "           'link': 'identity',\n",
            "           'name': 'alignn',\n",
            "           'num_classes': 2,\n",
            "           'output_features': 1,\n",
            "           'triplet_input_features': 40,\n",
            "           'zero_inflated': False},\n",
            " 'n_early_stopping': None,\n",
            " 'n_test': 3,\n",
            " 'n_train': 30,\n",
            " 'n_val': 3,\n",
            " 'neighbor_strategy': 'k-nearest',\n",
            " 'normalize_graph_level_loss': False,\n",
            " 'num_workers': 2,\n",
            " 'optimizer': 'adamw',\n",
            " 'output_dir': 'TMDC_Results',\n",
            " 'pin_memory': False,\n",
            " 'progress': True,\n",
            " 'random_seed': 42,\n",
            " 'save_dataloader': False,\n",
            " 'scheduler': 'onecycle',\n",
            " 'standard_scalar_and_pca': False,\n",
            " 'store_outputs': True,\n",
            " 'target': 'target',\n",
            " 'target_multiplication_factor': None,\n",
            " 'test_ratio': None,\n",
            " 'train_ratio': None,\n",
            " 'use_canonize': False,\n",
            " 'use_lmdb': False,\n",
            " 'val_ratio': None,\n",
            " 'version': '1.0',\n",
            " 'warmup_steps': 2000,\n",
            " 'weight_decay': 1e-05,\n",
            " 'write_checkpoint': True,\n",
            " 'write_predictions': True}\n",
            "Not using LMDB dataset, memory footprint maybe high.\n",
            "WARNING: not using LMDB might result errors.\n",
            "📂 Loading user dataset from: co2_dataset_fixed.json\n",
            "MAX val: 13.55181612\n",
            "MIN val: -2.24996258\n",
            "MAD: 1.3210392948148144\n",
            "Baseline MAE: 0.9488705510000001\n",
            "data range 13.55181612 -2.24996258\n",
            "Converting to graphs!\n",
            "100% 30/30 [00:03<00:00,  8.57it/s]\n",
            "df        target  ...                                              atoms\n",
            "0    1.279388  ...  {'lattice_mat': [[19.1418952942, 0.0, 0.0], [-...\n",
            "1   -0.134617  ...  {'lattice_mat': [[19.1418952942, 0.0, 0.0], [-...\n",
            "2   -0.084140  ...  {'lattice_mat': [[19.1418952942, 0.0, 0.0], [-...\n",
            "3   13.551816  ...  {'lattice_mat': [[33.0, 0.0, 0.0], [0.0, 25.52...\n",
            "4    0.106785  ...  {'lattice_mat': [[33.0, 0.0, 0.0], [0.0, 25.52...\n",
            "5   -0.015537  ...  {'lattice_mat': [[33.0, 0.0, 0.0], [0.0, 25.52...\n",
            "6    0.333258  ...  {'lattice_mat': [[33.0, 0.0, 0.0], [0.0, 25.52...\n",
            "7   -1.856544  ...  {'lattice_mat': [[33.0, 0.0, 0.0], [0.0, 25.52...\n",
            "8   -1.209472  ...  {'lattice_mat': [[33.0, 0.0, 0.0], [0.0, 25.52...\n",
            "9    1.686166  ...  {'lattice_mat': [[18.9192, 0.0, 1.2e-15], [-9....\n",
            "10  -0.065417  ...  {'lattice_mat': [[18.9192, 0.0, 1.2e-15], [-9....\n",
            "11  -0.003394  ...  {'lattice_mat': [[18.9192, 0.0, 1.2e-15], [-9....\n",
            "12  -0.102960  ...  {'lattice_mat': [[33.0, 0.0, 0.0], [0.0, 25.22...\n",
            "13  -0.003206  ...  {'lattice_mat': [[33.0, 0.0, 0.0], [0.0, 25.22...\n",
            "14   6.010615  ...  {'lattice_mat': [[33.0, 0.0, 0.0], [0.0, 25.22...\n",
            "15   0.066802  ...  {'lattice_mat': [[33.0, 0.0, 0.0], [0.0, 25.22...\n",
            "16  -2.249963  ...  {'lattice_mat': [[33.0, 0.0, 0.0], [0.0, 25.22...\n",
            "17  -1.655575  ...  {'lattice_mat': [[33.0, 0.0, 0.0], [0.0, 25.22...\n",
            "18   1.143370  ...  {'lattice_mat': [[19.734, 0.0, 1.2e-15], [-9.8...\n",
            "19  -0.228571  ...  {'lattice_mat': [[19.734, 0.0, 1.2e-15], [-9.8...\n",
            "20  -0.158909  ...  {'lattice_mat': [[19.734, 0.0, 1.2e-15], [-9.8...\n",
            "21  -0.242150  ...  {'lattice_mat': [[33.0, 0.0, 0.0], [0.0, 26.31...\n",
            "22  -0.040220  ...  {'lattice_mat': [[33.0, 0.0, 0.0], [0.0, 26.31...\n",
            "23  -1.057821  ...  {'lattice_mat': [[33.0, 0.0, 0.0], [0.0, 26.31...\n",
            "24   0.263179  ...  {'lattice_mat': [[33.0, 0.0, 0.0], [0.0, 26.31...\n",
            "25  -1.811266  ...  {'lattice_mat': [[33.0, 0.0, 0.0], [0.0, 26.31...\n",
            "26  -1.851059  ...  {'lattice_mat': [[33.0, 0.0, 0.0], [0.0, 26.31...\n",
            "27   1.254724  ...  {'lattice_mat': [[19.692, 0.0, 1.2e-15], [-9.8...\n",
            "28  -0.377720  ...  {'lattice_mat': [[19.692, 0.0, 1.2e-15], [-9.8...\n",
            "29  -0.296519  ...  {'lattice_mat': [[19.692, 0.0, 1.2e-15], [-9.8...\n",
            "\n",
            "[30 rows x 3 columns]\n",
            "/content/alignn/alignn/graphs.py:952: UserWarning: Creating a tensor from a list of numpy.ndarrays is extremely slow. Please consider converting the list to a single numpy.ndarray with numpy.array() before converting to a tensor. (Triggered internally at ../torch/csrc/utils/tensor_new.cpp:275.)\n",
            "  self.lattices = torch.tensor(self.lattices).type(\n",
            "warning: could not load CGCNN features for 103\n",
            "Setting it to max atomic number available here, 103\n",
            "warning: could not load CGCNN features for 101\n",
            "Setting it to max atomic number available here, 103\n",
            "warning: could not load CGCNN features for 102\n",
            "Setting it to max atomic number available here, 103\n",
            "building line graphs\n",
            "100% 30/30 [00:00<00:00, 66.32it/s]\n",
            "data range 0.96654627 -0.3391038\n",
            "Converting to graphs!\n",
            "100% 3/3 [00:00<00:00,  5.92it/s]\n",
            "df      target  ...                                              atoms\n",
            "0 -0.244683  ...  {'lattice_mat': [[33.0, 0.0, 0.0], [0.0, 26.25...\n",
            "1 -0.339104  ...  {'lattice_mat': [[33.0, 0.0, 0.0], [0.0, 26.25...\n",
            "2  0.966546  ...  {'lattice_mat': [[33.0, 0.0, 0.0], [0.0, 26.25...\n",
            "\n",
            "[3 rows x 3 columns]\n",
            "building line graphs\n",
            "100% 3/3 [00:00<00:00, 57.50it/s]\n",
            "data range 0.01990308 -1.44422598\n",
            "Converting to graphs!\n",
            "100% 3/3 [00:00<00:00,  8.15it/s]\n",
            "df      target  ...                                              atoms\n",
            "0  0.019903  ...  {'lattice_mat': [[33.0, 0.0, 0.0], [0.0, 26.25...\n",
            "1 -0.197184  ...  {'lattice_mat': [[33.0, 0.0, 0.0], [0.0, 26.25...\n",
            "2 -1.444226  ...  {'lattice_mat': [[33.0, 0.0, 0.0], [0.0, 26.25...\n",
            "\n",
            "[3 rows x 3 columns]\n",
            "building line graphs\n",
            "100% 3/3 [00:00<00:00, 33.49it/s]\n",
            "n_train: 30\n",
            "n_val  : 3\n",
            "n_test : 3\n",
            "\n",
            "    _    _     ___ ____ _   _ _   _\n",
            "   / \\  | |   |_ _/ ___| \\ | | \\ | |\n",
            "  / _ \\ | |    | | |  _|  \\| |  \\| |\n",
            " / ___ \\| |___ | | |_| | |\\  | |\\  |\n",
            "/_/   \\_\\_____|___\\____|_| \\_|_| \\_|\n",
            "\n",
            "Model parameters 4026753\n",
            "CUDA available False\n",
            "CUDA device count 0\n",
            "⚠️ Warning: best_model is None — using final model instead.\n",
            "Test MAE: 0.5226485909273227\n",
            "Test MAE: 0.5226485909273227\n"
          ]
        }
      ],
      "source": [
        "!python /content/alignn/alignn/train.py /content/configfile.json\n",
        "\n"
      ]
    },
    {
      "cell_type": "code",
      "source": [
        "import pandas as pd\n",
        "df = pd.read_csv(\"TMDC_Results/prediction_results_test_set.csv\")\n"
      ],
      "metadata": {
        "id": "njb3luviB68A"
      },
      "execution_count": 58,
      "outputs": []
    },
    {
      "cell_type": "code",
      "source": [
        "print(df.columns)\n"
      ],
      "metadata": {
        "colab": {
          "base_uri": "https://localhost:8080/"
        },
        "id": "NClmPZE9B-EY",
        "outputId": "63984573-2ce3-4a4b-d24f-b9e1fa6b2da8"
      },
      "execution_count": 59,
      "outputs": [
        {
          "output_type": "stream",
          "name": "stdout",
          "text": [
            "Index(['id', 'target', 'prediction'], dtype='object')\n"
          ]
        }
      ]
    },
    {
      "cell_type": "code",
      "source": [
        "df = df[[\"target\", \"prediction\"]]\n"
      ],
      "metadata": {
        "id": "deHtpanXCEyn"
      },
      "execution_count": 60,
      "outputs": []
    },
    {
      "cell_type": "code",
      "source": [
        "from sklearn.metrics import mean_absolute_error\n",
        "\n",
        "mae = mean_absolute_error(df[\"target\"], df[\"prediction\"])\n",
        "print(\"Mean Absolute Error (MAE):\", mae)\n"
      ],
      "metadata": {
        "colab": {
          "base_uri": "https://localhost:8080/"
        },
        "id": "091BtQj9CfxT",
        "outputId": "9835b65d-f70b-4455-c176-190aaa5e4375"
      },
      "execution_count": 62,
      "outputs": [
        {
          "output_type": "stream",
          "name": "stdout",
          "text": [
            "Mean Absolute Error (MAE): 0.5226483333333333\n"
          ]
        }
      ]
    },
    {
      "cell_type": "code",
      "source": [
        "from sklearn.metrics import r2_score\n",
        "\n",
        "r2 = r2_score(df[\"target\"], df[\"prediction\"])\n",
        "print(\"R² Score:\", r2)\n"
      ],
      "metadata": {
        "colab": {
          "base_uri": "https://localhost:8080/"
        },
        "id": "GTgOl-9XCiKC",
        "outputId": "6ae7f4bd-d68a-4e35-bbb9-dac70dda5955"
      },
      "execution_count": 63,
      "outputs": [
        {
          "output_type": "stream",
          "name": "stdout",
          "text": [
            "R² Score: -0.4803587562186298\n"
          ]
        }
      ]
    },
    {
      "cell_type": "code",
      "source": [
        "from sklearn.metrics import mean_squared_error\n",
        "import numpy as np\n",
        "\n",
        "rmse = np.sqrt(mean_squared_error(df[\"target\"], df[\"prediction\"]))\n",
        "print(\"Root Mean Squared Error (RMSE):\", rmse)\n"
      ],
      "metadata": {
        "colab": {
          "base_uri": "https://localhost:8080/"
        },
        "id": "2Y4mWnTFCkyo",
        "outputId": "c6ee317d-6ed2-462d-e198-0da5cf022332"
      },
      "execution_count": 64,
      "outputs": [
        {
          "output_type": "stream",
          "name": "stdout",
          "text": [
            "Root Mean Squared Error (RMSE): 0.7849484732636913\n"
          ]
        }
      ]
    },
    {
      "cell_type": "code",
      "source": [
        "import pandas as pd\n",
        "import matplotlib.pyplot as plt\n",
        "\n",
        "df = pd.read_csv(\"TMDC_Results/prediction_results_test_set.csv\")\n",
        "plt.figure(figsize=(6,6))\n",
        "plt.scatter(df[\"target\"], df[\"prediction\"], alpha=0.7, color=\"blue\", label=\"Predictions\")\n",
        "plt.plot(df[\"target\"], df[\"target\"], \"r--\", label=\"Ideal\")\n",
        "plt.xlabel(\"True Target\")\n",
        "plt.ylabel(\"Predicted Target\")\n",
        "plt.title(\"True vs Predicted (Test Set)\")\n",
        "plt.legend()\n",
        "plt.grid(True)\n",
        "plt.tight_layout()\n",
        "plt.show()\n"
      ],
      "metadata": {
        "colab": {
          "base_uri": "https://localhost:8080/",
          "height": 1000
        },
        "id": "1qlbom4_D1sR",
        "outputId": "3958a7fd-76b4-482a-8de6-eb4331423a0e"
      },
      "execution_count": 68,
      "outputs": [
        {
          "output_type": "display_data",
          "data": {
            "text/plain": [
              "<Figure size 600x600 with 1 Axes>"
            ],
            "image/png": "[encoded data removed]"
          },
          "metadata": {}
        },
        {
          "output_type": "display_data",
          "data": {
            "text/plain": [
              "<Figure size 600x600 with 1 Axes>"
            ],
            "image/png": "[encoded data removed]"
          },
          "metadata": {}
        },
        {
          "output_type": "display_data",
          "data": {
            "text/plain": [
              "<Figure size 600x600 with 1 Axes>"
            ],
            "image/png": "[encoded data removed]"
          },
          "metadata": {}
        },
        {
          "output_type": "display_data",
          "data": {
            "text/plain": [
              "<Figure size 600x600 with 1 Axes>"
            ],
            "image/png": "[encoded data removed]"
          },
          "metadata": {}
        }
      ]
    },
    {
      "cell_type": "code",
      "source": [
        "plt.plot(df['target'],df['prediction'],'.')\n",
        "plt.plot(df['target'],df['target'],'-.')\n",
        "plt.xlabel('DFT data (meV)')\n",
        "plt.ylabel('ALIGNN predictions (meV)')\n",
        "plt.show()"
      ],
      "metadata": {
        "colab": {
          "base_uri": "https://localhost:8080/",
          "height": 449
        },
        "id": "hf3vWrmQpDwg",
        "outputId": "70e3fd73-8545-45fe-f3bd-01e6b8a96ad8"
      },
      "execution_count": 70,
      "outputs": [
        {
          "output_type": "display_data",
          "data": {
            "text/plain": [
              "<Figure size 640x480 with 1 Axes>"
            ],
            "image/png": "[encoded data removed]"
          },
          "metadata": {}
        }
      ]
    },
    {
      "cell_type": "code",
      "source": [
        "import os\n",
        "os.listdir(\"TMDC_Results\")\n"
      ],
      "metadata": {
        "colab": {
          "base_uri": "https://localhost:8080/"
        },
        "id": "WRTYcVHSLWnY",
        "outputId": "0d7bd86f-74fb-49a3-be19-b2e781cf37a5"
      },
      "execution_count": 79,
      "outputs": [
        {
          "output_type": "execute_result",
          "data": {
            "text/plain": [
              "['co2_dataset_fixed.jsontrain_data_data_range',\n",
              " 'prediction_results_train_set.csv',\n",
              " 'ids_train_val_test.json',\n",
              " 'config.json',\n",
              " 'co2_dataset_fixed.jsonval_data_data_range',\n",
              " 'co2_dataset_fixed.jsontest_data_data_range',\n",
              " 'mad',\n",
              " 'prediction_results_test_set.csv']"
            ]
          },
          "metadata": {},
          "execution_count": 79
        }
      ]
    },
    {
      "cell_type": "code",
      "source": [
        "import pandas as pd\n",
        "from jarvis.core.atoms import Atoms\n",
        "\n",
        "# Load full dataset\n",
        "data = pd.read_json(\"co2_dataset_fixed.json\")\n",
        "\n",
        "# Add formula using JARVIS atoms\n",
        "cf_list = []\n",
        "for i, row in data.iterrows():\n",
        "    atoms = Atoms.from_dict(row[\"atoms\"])\n",
        "    cf_list.append(atoms.composition.reduced_formula)\n",
        "\n",
        "# Add as new column\n",
        "data[\"formula\"] = cf_list\n",
        "\n",
        "# View top entries with highest target values\n",
        "data.sort_values(\"target\", ascending=False).head(10)\n"
      ],
      "metadata": {
        "colab": {
          "base_uri": "https://localhost:8080/",
          "height": 363
        },
        "id": "pIOp3uXjLlH_",
        "outputId": "b553ee59-2a1a-4cc2-912d-8ba8cb62b528"
      },
      "execution_count": 81,
      "outputs": [
        {
          "output_type": "execute_result",
          "data": {
            "text/plain": [
              "       target                           jid  \\\n",
              "3   13.551816   MoS2_ribbon_Mo_edge_Sv.vasp   \n",
              "14   6.010615     WS2_ribbon_W_edge_Dv.vasp   \n",
              "9    1.686166             WS2_sheet_Sv.vasp   \n",
              "0    1.279388            MoS2_sheet_Sv.vasp   \n",
              "27   1.254724            WSe2_sheet_Sv.vasp   \n",
              "18   1.143370           MoSe2_sheet_Sv.vasp   \n",
              "32   0.966546    WSe2_ribbon_W_edge_Dv.vasp   \n",
              "6    0.333258    MoS2_ribbon_S_edge_Dv.vasp   \n",
              "24   0.263179  MoSe2_ribbon_Se_edge_Dv.vasp   \n",
              "4    0.106785    MoS2_ribbon_S_edge_Sv.vasp   \n",
              "\n",
              "                                                atoms   formula  \n",
              "3   {'lattice_mat': [[33.0, 0.0, 0.0], [0.0, 25.52...   Mo16S33  \n",
              "14  {'lattice_mat': [[33.0, 0.0, 0.0], [0.0, 25.22...    W24S49  \n",
              "9   {'lattice_mat': [[18.9192, 0.0, 1.2e-15], [-9....    W36S71  \n",
              "0   {'lattice_mat': [[19.1418952942, 0.0, 0.0], [-...   Mo36S71  \n",
              "27  {'lattice_mat': [[19.692, 0.0, 1.2e-15], [-9.8...   W36Se71  \n",
              "18  {'lattice_mat': [[19.734, 0.0, 1.2e-15], [-9.8...  Mo36Se71  \n",
              "32  {'lattice_mat': [[33.0, 0.0, 0.0], [0.0, 26.25...   W24Se49  \n",
              "6   {'lattice_mat': [[33.0, 0.0, 0.0], [0.0, 25.52...   Mo24S49  \n",
              "24  {'lattice_mat': [[33.0, 0.0, 0.0], [0.0, 26.31...  Mo24Se49  \n",
              "4   {'lattice_mat': [[33.0, 0.0, 0.0], [0.0, 25.52...   Mo16S33  "
            ],
            "text/html": [
              "\n",
              "  <div id=\"df-79417f3c-86e3-48d5-902a-0c848dcbb4ed\" class=\"colab-df-container\">\n",
              "    <div>\n",
              "<style scoped>\n",
              "    .dataframe tbody tr th:only-of-type {\n",
              "        vertical-align: middle;\n",
              "    }\n",
              "\n",
              "    .dataframe tbody tr th {\n",
              "        vertical-align: top;\n",
              "    }\n",
              "\n",
              "    .dataframe thead th {\n",
              "        text-align: right;\n",
              "    }\n",
              "</style>\n",
              "<table border=\"1\" class=\"dataframe\">\n",
              "  <thead>\n",
              "    <tr style=\"text-align: right;\">\n",
              "      <th></th>\n",
              "      <th>target</th>\n",
              "      <th>jid</th>\n",
              "      <th>atoms</th>\n",
              "      <th>formula</th>\n",
              "    </tr>\n",
              "  </thead>\n",
              "  <tbody>\n",
              "    <tr>\n",
              "      <th>3</th>\n",
              "      <td>13.551816</td>\n",
              "      <td>MoS2_ribbon_Mo_edge_Sv.vasp</td>\n",
              "      <td>{'lattice_mat': [[33.0, 0.0, 0.0], [0.0, 25.52...</td>\n",
              "      <td>Mo16S33</td>\n",
              "    </tr>\n",
              "    <tr>\n",
              "      <th>14</th>\n",
              "      <td>6.010615</td>\n",
              "      <td>WS2_ribbon_W_edge_Dv.vasp</td>\n",
              "      <td>{'lattice_mat': [[33.0, 0.0, 0.0], [0.0, 25.22...</td>\n",
              "      <td>W24S49</td>\n",
              "    </tr>\n",
              "    <tr>\n",
              "      <th>9</th>\n",
              "      <td>1.686166</td>\n",
              "      <td>WS2_sheet_Sv.vasp</td>\n",
              "      <td>{'lattice_mat': [[18.9192, 0.0, 1.2e-15], [-9....</td>\n",
              "      <td>W36S71</td>\n",
              "    </tr>\n",
              "    <tr>\n",
              "      <th>0</th>\n",
              "      <td>1.279388</td>\n",
              "      <td>MoS2_sheet_Sv.vasp</td>\n",
              "      <td>{'lattice_mat': [[19.1418952942, 0.0, 0.0], [-...</td>\n",
              "      <td>Mo36S71</td>\n",
              "    </tr>\n",
              "    <tr>\n",
              "      <th>27</th>\n",
              "      <td>1.254724</td>\n",
              "      <td>WSe2_sheet_Sv.vasp</td>\n",
              "      <td>{'lattice_mat': [[19.692, 0.0, 1.2e-15], [-9.8...</td>\n",
              "      <td>W36Se71</td>\n",
              "    </tr>\n",
              "    <tr>\n",
              "      <th>18</th>\n",
              "      <td>1.143370</td>\n",
              "      <td>MoSe2_sheet_Sv.vasp</td>\n",
              "      <td>{'lattice_mat': [[19.734, 0.0, 1.2e-15], [-9.8...</td>\n",
              "      <td>Mo36Se71</td>\n",
              "    </tr>\n",
              "    <tr>\n",
              "      <th>32</th>\n",
              "      <td>0.966546</td>\n",
              "      <td>WSe2_ribbon_W_edge_Dv.vasp</td>\n",
              "      <td>{'lattice_mat': [[33.0, 0.0, 0.0], [0.0, 26.25...</td>\n",
              "      <td>W24Se49</td>\n",
              "    </tr>\n",
              "    <tr>\n",
              "      <th>6</th>\n",
              "      <td>0.333258</td>\n",
              "      <td>MoS2_ribbon_S_edge_Dv.vasp</td>\n",
              "      <td>{'lattice_mat': [[33.0, 0.0, 0.0], [0.0, 25.52...</td>\n",
              "      <td>Mo24S49</td>\n",
              "    </tr>\n",
              "    <tr>\n",
              "      <th>24</th>\n",
              "      <td>0.263179</td>\n",
              "      <td>MoSe2_ribbon_Se_edge_Dv.vasp</td>\n",
              "      <td>{'lattice_mat': [[33.0, 0.0, 0.0], [0.0, 26.31...</td>\n",
              "      <td>Mo24Se49</td>\n",
              "    </tr>\n",
              "    <tr>\n",
              "      <th>4</th>\n",
              "      <td>0.106785</td>\n",
              "      <td>MoS2_ribbon_S_edge_Sv.vasp</td>\n",
              "      <td>{'lattice_mat': [[33.0, 0.0, 0.0], [0.0, 25.52...</td>\n",
              "      <td>Mo16S33</td>\n",
              "    </tr>\n",
              "  </tbody>\n",
              "</table>\n",
              "</div>\n",
              "    <div class=\"colab-df-buttons\">\n",
              "\n",
              "  <div class=\"colab-df-container\">\n",
              "    <button class=\"colab-df-convert\" onclick=\"convertToInteractive('df-79417f3c-86e3-48d5-902a-0c848dcbb4ed')\"\n",
              "            title=\"Convert this dataframe to an interactive table.\"\n",
              "            style=\"display:none;\">\n",
              "\n",
              "  <svg xmlns=\"http://www.w3.org/2000/svg\" height=\"24px\" viewBox=\"0 -960 960 960\">\n",
              "    <path d=\"M120-120v-720h720v720H120Zm60-500h600v-160H180v160Zm220 220h160v-160H400v160Zm0 220h160v-160H400v160ZM180-400h160v-160H180v160Zm440 0h160v-160H620v160ZM180-180h160v-160H180v160Zm440 0h160v-160H620v160Z\"/>\n",
              "  </svg>\n",
              "    </button>\n",
              "\n",
              "  <style>\n",
              "    .colab-df-container {\n",
              "      display:flex;\n",
              "      gap: 12px;\n",
              "    }\n",
              "\n",
              "    .colab-df-convert {\n",
              "      background-color: #E8F0FE;\n",
              "      border: none;\n",
              "      border-radius: 50%;\n",
              "      cursor: pointer;\n",
              "      display: none;\n",
              "      fill: #1967D2;\n",
              "      height: 32px;\n",
              "      padding: 0 0 0 0;\n",
              "      width: 32px;\n",
              "    }\n",
              "\n",
              "    .colab-df-convert:hover {\n",
              "      background-color: #E2EBFA;\n",
              "      box-shadow: 0px 1px 2px rgba(60, 64, 67, 0.3), 0px 1px 3px 1px rgba(60, 64, 67, 0.15);\n",
              "      fill: #174EA6;\n",
              "    }\n",
              "\n",
              "    .colab-df-buttons div {\n",
              "      margin-bottom: 4px;\n",
              "    }\n",
              "\n",
              "    [theme=dark] .colab-df-convert {\n",
              "      background-color: #3B4455;\n",
              "      fill: #D2E3FC;\n",
              "    }\n",
              "\n",
              "    [theme=dark] .colab-df-convert:hover {\n",
              "      background-color: #434B5C;\n",
              "      box-shadow: 0px 1px 3px 1px rgba(0, 0, 0, 0.15);\n",
              "      filter: drop-shadow(0px 1px 2px rgba(0, 0, 0, 0.3));\n",
              "      fill: #FFFFFF;\n",
              "    }\n",
              "  </style>\n",
              "\n",
              "    <script>\n",
              "      const buttonEl =\n",
              "        document.querySelector('#df-79417f3c-86e3-48d5-902a-0c848dcbb4ed button.colab-df-convert');\n",
              "      buttonEl.style.display =\n",
              "        google.colab.kernel.accessAllowed ? 'block' : 'none';\n",
              "\n",
              "      async function convertToInteractive(key) {\n",
              "        const element = document.querySelector('#df-79417f3c-86e3-48d5-902a-0c848dcbb4ed');\n",
              "        const dataTable =\n",
              "          await google.colab.kernel.invokeFunction('convertToInteractive',\n",
              "                                                    [key], {});\n",
              "        if (!dataTable) return;\n",
              "\n",
              "        const docLinkHtml = 'Like what you see? Visit the ' +\n",
              "          '<a target=\"_blank\" href=https://colab.research.google.com/notebooks/data_table.ipynb>data table notebook</a>'\n",
              "          + ' to learn more about interactive tables.';\n",
              "        element.innerHTML = '';\n",
              "        dataTable['output_type'] = 'display_data';\n",
              "        await google.colab.output.renderOutput(dataTable, element);\n",
              "        const docLink = document.createElement('div');\n",
              "        docLink.innerHTML = docLinkHtml;\n",
              "        element.appendChild(docLink);\n",
              "      }\n",
              "    </script>\n",
              "  </div>\n",
              "\n",
              "\n",
              "    <div id=\"df-248c2dd7-55a1-4682-b9d7-5110a7d7537b\">\n",
              "      <button class=\"colab-df-quickchart\" onclick=\"quickchart('df-248c2dd7-55a1-4682-b9d7-5110a7d7537b')\"\n",
              "                title=\"Suggest charts\"\n",
              "                style=\"display:none;\">\n",
              "\n",
              "<svg xmlns=\"http://www.w3.org/2000/svg\" height=\"24px\"viewBox=\"0 0 24 24\"\n",
              "     width=\"24px\">\n",
              "    <g>\n",
              "        <path d=\"M19 3H5c-1.1 0-2 .9-2 2v14c0 1.1.9 2 2 2h14c1.1 0 2-.9 2-2V5c0-1.1-.9-2-2-2zM9 17H7v-7h2v7zm4 0h-2V7h2v10zm4 0h-2v-4h2v4z\"/>\n",
              "    </g>\n",
              "</svg>\n",
              "      </button>\n",
              "\n",
              "<style>\n",
              "  .colab-df-quickchart {\n",
              "      --bg-color: #E8F0FE;\n",
              "      --fill-color: #1967D2;\n",
              "      --hover-bg-color: #E2EBFA;\n",
              "      --hover-fill-color: #174EA6;\n",
              "      --disabled-fill-color: #AAA;\n",
              "      --disabled-bg-color: #DDD;\n",
              "  }\n",
              "\n",
              "  [theme=dark] .colab-df-quickchart {\n",
              "      --bg-color: #3B4455;\n",
              "      --fill-color: #D2E3FC;\n",
              "      --hover-bg-color: #434B5C;\n",
              "      --hover-fill-color: #FFFFFF;\n",
              "      --disabled-bg-color: #3B4455;\n",
              "      --disabled-fill-color: #666;\n",
              "  }\n",
              "\n",
              "  .colab-df-quickchart {\n",
              "    background-color: var(--bg-color);\n",
              "    border: none;\n",
              "    border-radius: 50%;\n",
              "    cursor: pointer;\n",
              "    display: none;\n",
              "    fill: var(--fill-color);\n",
              "    height: 32px;\n",
              "    padding: 0;\n",
              "    width: 32px;\n",
              "  }\n",
              "\n",
              "  .colab-df-quickchart:hover {\n",
              "    background-color: var(--hover-bg-color);\n",
              "    box-shadow: 0 1px 2px rgba(60, 64, 67, 0.3), 0 1px 3px 1px rgba(60, 64, 67, 0.15);\n",
              "    fill: var(--button-hover-fill-color);\n",
              "  }\n",
              "\n",
              "  .colab-df-quickchart-complete:disabled,\n",
              "  .colab-df-quickchart-complete:disabled:hover {\n",
              "    background-color: var(--disabled-bg-color);\n",
              "    fill: var(--disabled-fill-color);\n",
              "    box-shadow: none;\n",
              "  }\n",
              "\n",
              "  .colab-df-spinner {\n",
              "    border: 2px solid var(--fill-color);\n",
              "    border-color: transparent;\n",
              "    border-bottom-color: var(--fill-color);\n",
              "    animation:\n",
              "      spin 1s steps(1) infinite;\n",
              "  }\n",
              "\n",
              "  @keyframes spin {\n",
              "    0% {\n",
              "      border-color: transparent;\n",
              "      border-bottom-color: var(--fill-color);\n",
              "      border-left-color: var(--fill-color);\n",
              "    }\n",
              "    20% {\n",
              "      border-color: transparent;\n",
              "      border-left-color: var(--fill-color);\n",
              "      border-top-color: var(--fill-color);\n",
              "    }\n",
              "    30% {\n",
              "      border-color: transparent;\n",
              "      border-left-color: var(--fill-color);\n",
              "      border-top-color: var(--fill-color);\n",
              "      border-right-color: var(--fill-color);\n",
              "    }\n",
              "    40% {\n",
              "      border-color: transparent;\n",
              "      border-right-color: var(--fill-color);\n",
              "      border-top-color: var(--fill-color);\n",
              "    }\n",
              "    60% {\n",
              "      border-color: transparent;\n",
              "      border-right-color: var(--fill-color);\n",
              "    }\n",
              "    80% {\n",
              "      border-color: transparent;\n",
              "      border-right-color: var(--fill-color);\n",
              "      border-bottom-color: var(--fill-color);\n",
              "    }\n",
              "    90% {\n",
              "      border-color: transparent;\n",
              "      border-bottom-color: var(--fill-color);\n",
              "    }\n",
              "  }\n",
              "</style>\n",
              "\n",
              "      <script>\n",
              "        async function quickchart(key) {\n",
              "          const quickchartButtonEl =\n",
              "            document.querySelector('#' + key + ' button');\n",
              "          quickchartButtonEl.disabled = true;  // To prevent multiple clicks.\n",
              "          quickchartButtonEl.classList.add('colab-df-spinner');\n",
              "          try {\n",
              "            const charts = await google.colab.kernel.invokeFunction(\n",
              "                'suggestCharts', [key], {});\n",
              "          } catch (error) {\n",
              "            console.error('Error during call to suggestCharts:', error);\n",
              "          }\n",
              "          quickchartButtonEl.classList.remove('colab-df-spinner');\n",
              "          quickchartButtonEl.classList.add('colab-df-quickchart-complete');\n",
              "        }\n",
              "        (() => {\n",
              "          let quickchartButtonEl =\n",
              "            document.querySelector('#df-248c2dd7-55a1-4682-b9d7-5110a7d7537b button');\n",
              "          quickchartButtonEl.style.display =\n",
              "            google.colab.kernel.accessAllowed ? 'block' : 'none';\n",
              "        })();\n",
              "      </script>\n",
              "    </div>\n",
              "\n",
              "    </div>\n",
              "  </div>\n"
            ],
            "application/vnd.google.colaboratory.intrinsic+json": {
              "type": "dataframe",
              "summary": "{\n  \"name\": \"data\",\n  \"rows\": 10,\n  \"fields\": [\n    {\n      \"column\": \"target\",\n      \"properties\": {\n        \"dtype\": \"number\",\n        \"std\": 4.183736488392362,\n        \"min\": 0.10678526,\n        \"max\": 13.55181612,\n        \"num_unique_values\": 10,\n        \"samples\": [\n          0.26317866,\n          6.01061528,\n          1.14337041\n        ],\n        \"semantic_type\": \"\",\n        \"description\": \"\"\n      }\n    },\n    {\n      \"column\": \"jid\",\n      \"properties\": {\n        \"dtype\": \"string\",\n        \"num_unique_values\": 10,\n        \"samples\": [\n          \"MoSe2_ribbon_Se_edge_Dv.vasp\",\n          \"WS2_ribbon_W_edge_Dv.vasp\",\n          \"MoSe2_sheet_Sv.vasp\"\n        ],\n        \"semantic_type\": \"\",\n        \"description\": \"\"\n      }\n    },\n    {\n      \"column\": \"atoms\",\n      \"properties\": {\n        \"dtype\": \"object\",\n        \"semantic_type\": \"\",\n        \"description\": \"\"\n      }\n    },\n    {\n      \"column\": \"formula\",\n      \"properties\": {\n        \"dtype\": \"string\",\n        \"num_unique_values\": 9,\n        \"samples\": [\n          \"Mo24S49\",\n          \"W24S49\",\n          \"Mo36Se71\"\n        ],\n        \"semantic_type\": \"\",\n        \"description\": \"\"\n      }\n    }\n  ]\n}"
            }
          },
          "metadata": {},
          "execution_count": 81
        }
      ]
    },
    {
      "cell_type": "code",
      "source": [
        "import pandas as pd\n",
        "from jarvis.core.atoms import Atoms\n",
        "\n",
        "# Load full dataset\n",
        "atoms_df = pd.read_json(\"co2_dataset_fixed.json\")\n",
        "\n",
        "# Extract formula from atoms field\n",
        "atoms_df[\"formula\"] = [Atoms.from_dict(row[\"atoms\"]).composition.reduced_formula for _, row in atoms_df.iterrows()]\n",
        "\n",
        "# Load predictions\n",
        "pred_df = pd.read_csv(\"TMDC_Results/prediction_results_test_set.csv\")\n",
        "\n",
        "# Merge based on index\n",
        "merged_df = pred_df.copy()\n",
        "merged_df[\"formula\"] = atoms_df.loc[merged_df.index, \"formula\"].values\n",
        "\n",
        "# Show top predictions\n",
        "merged_df.sort_values(\"prediction\", ascending=False).head(10)\n"
      ],
      "metadata": {
        "colab": {
          "base_uri": "https://localhost:8080/",
          "height": 143
        },
        "id": "3f-IOpGrL_Hh",
        "outputId": "e06b6e66-f1c5-427d-89fa-81409abfcb7d"
      },
      "execution_count": 83,
      "outputs": [
        {
          "output_type": "execute_result",
          "data": {
            "text/plain": [
              "                            id    target  prediction  formula\n",
              "2  WSe2_ribbon_Se_edge_Tv.vasp -1.444226   -0.093366  Mo12S23\n",
              "0  WSe2_ribbon_Se_edge_Dv.vasp  0.019903   -0.093468  Mo36S71\n",
              "1   WSe2_ribbon_W_edge_Tv.vasp -0.197184   -0.093470  Mo18S35"
            ],
            "text/html": [
              "\n",
              "  <div id=\"df-571ba5ee-0ab1-4cdc-bf9c-605e2fa481f9\" class=\"colab-df-container\">\n",
              "    <div>\n",
              "<style scoped>\n",
              "    .dataframe tbody tr th:only-of-type {\n",
              "        vertical-align: middle;\n",
              "    }\n",
              "\n",
              "    .dataframe tbody tr th {\n",
              "        vertical-align: top;\n",
              "    }\n",
              "\n",
              "    .dataframe thead th {\n",
              "        text-align: right;\n",
              "    }\n",
              "</style>\n",
              "<table border=\"1\" class=\"dataframe\">\n",
              "  <thead>\n",
              "    <tr style=\"text-align: right;\">\n",
              "      <th></th>\n",
              "      <th>id</th>\n",
              "      <th>target</th>\n",
              "      <th>prediction</th>\n",
              "      <th>formula</th>\n",
              "    </tr>\n",
              "  </thead>\n",
              "  <tbody>\n",
              "    <tr>\n",
              "      <th>2</th>\n",
              "      <td>WSe2_ribbon_Se_edge_Tv.vasp</td>\n",
              "      <td>-1.444226</td>\n",
              "      <td>-0.093366</td>\n",
              "      <td>Mo12S23</td>\n",
              "    </tr>\n",
              "    <tr>\n",
              "      <th>0</th>\n",
              "      <td>WSe2_ribbon_Se_edge_Dv.vasp</td>\n",
              "      <td>0.019903</td>\n",
              "      <td>-0.093468</td>\n",
              "      <td>Mo36S71</td>\n",
              "    </tr>\n",
              "    <tr>\n",
              "      <th>1</th>\n",
              "      <td>WSe2_ribbon_W_edge_Tv.vasp</td>\n",
              "      <td>-0.197184</td>\n",
              "      <td>-0.093470</td>\n",
              "      <td>Mo18S35</td>\n",
              "    </tr>\n",
              "  </tbody>\n",
              "</table>\n",
              "</div>\n",
              "    <div class=\"colab-df-buttons\">\n",
              "\n",
              "  <div class=\"colab-df-container\">\n",
              "    <button class=\"colab-df-convert\" onclick=\"convertToInteractive('df-571ba5ee-0ab1-4cdc-bf9c-605e2fa481f9')\"\n",
              "            title=\"Convert this dataframe to an interactive table.\"\n",
              "            style=\"display:none;\">\n",
              "\n",
              "  <svg xmlns=\"http://www.w3.org/2000/svg\" height=\"24px\" viewBox=\"0 -960 960 960\">\n",
              "    <path d=\"M120-120v-720h720v720H120Zm60-500h600v-160H180v160Zm220 220h160v-160H400v160Zm0 220h160v-160H400v160ZM180-400h160v-160H180v160Zm440 0h160v-160H620v160ZM180-180h160v-160H180v160Zm440 0h160v-160H620v160Z\"/>\n",
              "  </svg>\n",
              "    </button>\n",
              "\n",
              "  <style>\n",
              "    .colab-df-container {\n",
              "      display:flex;\n",
              "      gap: 12px;\n",
              "    }\n",
              "\n",
              "    .colab-df-convert {\n",
              "      background-color: #E8F0FE;\n",
              "      border: none;\n",
              "      border-radius: 50%;\n",
              "      cursor: pointer;\n",
              "      display: none;\n",
              "      fill: #1967D2;\n",
              "      height: 32px;\n",
              "      padding: 0 0 0 0;\n",
              "      width: 32px;\n",
              "    }\n",
              "\n",
              "    .colab-df-convert:hover {\n",
              "      background-color: #E2EBFA;\n",
              "      box-shadow: 0px 1px 2px rgba(60, 64, 67, 0.3), 0px 1px 3px 1px rgba(60, 64, 67, 0.15);\n",
              "      fill: #174EA6;\n",
              "    }\n",
              "\n",
              "    .colab-df-buttons div {\n",
              "      margin-bottom: 4px;\n",
              "    }\n",
              "\n",
              "    [theme=dark] .colab-df-convert {\n",
              "      background-color: #3B4455;\n",
              "      fill: #D2E3FC;\n",
              "    }\n",
              "\n",
              "    [theme=dark] .colab-df-convert:hover {\n",
              "      background-color: #434B5C;\n",
              "      box-shadow: 0px 1px 3px 1px rgba(0, 0, 0, 0.15);\n",
              "      filter: drop-shadow(0px 1px 2px rgba(0, 0, 0, 0.3));\n",
              "      fill: #FFFFFF;\n",
              "    }\n",
              "  </style>\n",
              "\n",
              "    <script>\n",
              "      const buttonEl =\n",
              "        document.querySelector('#df-571ba5ee-0ab1-4cdc-bf9c-605e2fa481f9 button.colab-df-convert');\n",
              "      buttonEl.style.display =\n",
              "        google.colab.kernel.accessAllowed ? 'block' : 'none';\n",
              "\n",
              "      async function convertToInteractive(key) {\n",
              "        const element = document.querySelector('#df-571ba5ee-0ab1-4cdc-bf9c-605e2fa481f9');\n",
              "        const dataTable =\n",
              "          await google.colab.kernel.invokeFunction('convertToInteractive',\n",
              "                                                    [key], {});\n",
              "        if (!dataTable) return;\n",
              "\n",
              "        const docLinkHtml = 'Like what you see? Visit the ' +\n",
              "          '<a target=\"_blank\" href=https://colab.research.google.com/notebooks/data_table.ipynb>data table notebook</a>'\n",
              "          + ' to learn more about interactive tables.';\n",
              "        element.innerHTML = '';\n",
              "        dataTable['output_type'] = 'display_data';\n",
              "        await google.colab.output.renderOutput(dataTable, element);\n",
              "        const docLink = document.createElement('div');\n",
              "        docLink.innerHTML = docLinkHtml;\n",
              "        element.appendChild(docLink);\n",
              "      }\n",
              "    </script>\n",
              "  </div>\n",
              "\n",
              "\n",
              "    <div id=\"df-6533e3b6-70c4-4b05-ada4-5b184a2a1216\">\n",
              "      <button class=\"colab-df-quickchart\" onclick=\"quickchart('df-6533e3b6-70c4-4b05-ada4-5b184a2a1216')\"\n",
              "                title=\"Suggest charts\"\n",
              "                style=\"display:none;\">\n",
              "\n",
              "<svg xmlns=\"http://www.w3.org/2000/svg\" height=\"24px\"viewBox=\"0 0 24 24\"\n",
              "     width=\"24px\">\n",
              "    <g>\n",
              "        <path d=\"M19 3H5c-1.1 0-2 .9-2 2v14c0 1.1.9 2 2 2h14c1.1 0 2-.9 2-2V5c0-1.1-.9-2-2-2zM9 17H7v-7h2v7zm4 0h-2V7h2v10zm4 0h-2v-4h2v4z\"/>\n",
              "    </g>\n",
              "</svg>\n",
              "      </button>\n",
              "\n",
              "<style>\n",
              "  .colab-df-quickchart {\n",
              "      --bg-color: #E8F0FE;\n",
              "      --fill-color: #1967D2;\n",
              "      --hover-bg-color: #E2EBFA;\n",
              "      --hover-fill-color: #174EA6;\n",
              "      --disabled-fill-color: #AAA;\n",
              "      --disabled-bg-color: #DDD;\n",
              "  }\n",
              "\n",
              "  [theme=dark] .colab-df-quickchart {\n",
              "      --bg-color: #3B4455;\n",
              "      --fill-color: #D2E3FC;\n",
              "      --hover-bg-color: #434B5C;\n",
              "      --hover-fill-color: #FFFFFF;\n",
              "      --disabled-bg-color: #3B4455;\n",
              "      --disabled-fill-color: #666;\n",
              "  }\n",
              "\n",
              "  .colab-df-quickchart {\n",
              "    background-color: var(--bg-color);\n",
              "    border: none;\n",
              "    border-radius: 50%;\n",
              "    cursor: pointer;\n",
              "    display: none;\n",
              "    fill: var(--fill-color);\n",
              "    height: 32px;\n",
              "    padding: 0;\n",
              "    width: 32px;\n",
              "  }\n",
              "\n",
              "  .colab-df-quickchart:hover {\n",
              "    background-color: var(--hover-bg-color);\n",
              "    box-shadow: 0 1px 2px rgba(60, 64, 67, 0.3), 0 1px 3px 1px rgba(60, 64, 67, 0.15);\n",
              "    fill: var(--button-hover-fill-color);\n",
              "  }\n",
              "\n",
              "  .colab-df-quickchart-complete:disabled,\n",
              "  .colab-df-quickchart-complete:disabled:hover {\n",
              "    background-color: var(--disabled-bg-color);\n",
              "    fill: var(--disabled-fill-color);\n",
              "    box-shadow: none;\n",
              "  }\n",
              "\n",
              "  .colab-df-spinner {\n",
              "    border: 2px solid var(--fill-color);\n",
              "    border-color: transparent;\n",
              "    border-bottom-color: var(--fill-color);\n",
              "    animation:\n",
              "      spin 1s steps(1) infinite;\n",
              "  }\n",
              "\n",
              "  @keyframes spin {\n",
              "    0% {\n",
              "      border-color: transparent;\n",
              "      border-bottom-color: var(--fill-color);\n",
              "      border-left-color: var(--fill-color);\n",
              "    }\n",
              "    20% {\n",
              "      border-color: transparent;\n",
              "      border-left-color: var(--fill-color);\n",
              "      border-top-color: var(--fill-color);\n",
              "    }\n",
              "    30% {\n",
              "      border-color: transparent;\n",
              "      border-left-color: var(--fill-color);\n",
              "      border-top-color: var(--fill-color);\n",
              "      border-right-color: var(--fill-color);\n",
              "    }\n",
              "    40% {\n",
              "      border-color: transparent;\n",
              "      border-right-color: var(--fill-color);\n",
              "      border-top-color: var(--fill-color);\n",
              "    }\n",
              "    60% {\n",
              "      border-color: transparent;\n",
              "      border-right-color: var(--fill-color);\n",
              "    }\n",
              "    80% {\n",
              "      border-color: transparent;\n",
              "      border-right-color: var(--fill-color);\n",
              "      border-bottom-color: var(--fill-color);\n",
              "    }\n",
              "    90% {\n",
              "      border-color: transparent;\n",
              "      border-bottom-color: var(--fill-color);\n",
              "    }\n",
              "  }\n",
              "</style>\n",
              "\n",
              "      <script>\n",
              "        async function quickchart(key) {\n",
              "          const quickchartButtonEl =\n",
              "            document.querySelector('#' + key + ' button');\n",
              "          quickchartButtonEl.disabled = true;  // To prevent multiple clicks.\n",
              "          quickchartButtonEl.classList.add('colab-df-spinner');\n",
              "          try {\n",
              "            const charts = await google.colab.kernel.invokeFunction(\n",
              "                'suggestCharts', [key], {});\n",
              "          } catch (error) {\n",
              "            console.error('Error during call to suggestCharts:', error);\n",
              "          }\n",
              "          quickchartButtonEl.classList.remove('colab-df-spinner');\n",
              "          quickchartButtonEl.classList.add('colab-df-quickchart-complete');\n",
              "        }\n",
              "        (() => {\n",
              "          let quickchartButtonEl =\n",
              "            document.querySelector('#df-6533e3b6-70c4-4b05-ada4-5b184a2a1216 button');\n",
              "          quickchartButtonEl.style.display =\n",
              "            google.colab.kernel.accessAllowed ? 'block' : 'none';\n",
              "        })();\n",
              "      </script>\n",
              "    </div>\n",
              "\n",
              "    </div>\n",
              "  </div>\n"
            ],
            "application/vnd.google.colaboratory.intrinsic+json": {
              "type": "dataframe",
              "summary": "{\n  \"name\": \"merged_df\",\n  \"rows\": 3,\n  \"fields\": [\n    {\n      \"column\": \"id\",\n      \"properties\": {\n        \"dtype\": \"string\",\n        \"num_unique_values\": 3,\n        \"samples\": [\n          \"WSe2_ribbon_Se_edge_Tv.vasp\",\n          \"WSe2_ribbon_Se_edge_Dv.vasp\",\n          \"WSe2_ribbon_W_edge_Tv.vasp\"\n        ],\n        \"semantic_type\": \"\",\n        \"description\": \"\"\n      }\n    },\n    {\n      \"column\": \"target\",\n      \"properties\": {\n        \"dtype\": \"number\",\n        \"std\": 0.7901386211686741,\n        \"min\": -1.444226,\n        \"max\": 0.019903,\n        \"num_unique_values\": 3,\n        \"samples\": [\n          -1.444226,\n          0.019903,\n          -0.197184\n        ],\n        \"semantic_type\": \"\",\n        \"description\": \"\"\n      }\n    },\n    {\n      \"column\": \"prediction\",\n      \"properties\": {\n        \"dtype\": \"number\",\n        \"std\": 5.947548514583791e-05,\n        \"min\": -0.09347,\n        \"max\": -0.093366,\n        \"num_unique_values\": 3,\n        \"samples\": [\n          -0.093366,\n          -0.093468,\n          -0.09347\n        ],\n        \"semantic_type\": \"\",\n        \"description\": \"\"\n      }\n    },\n    {\n      \"column\": \"formula\",\n      \"properties\": {\n        \"dtype\": \"string\",\n        \"num_unique_values\": 3,\n        \"samples\": [\n          \"Mo12S23\",\n          \"Mo36S71\",\n          \"Mo18S35\"\n        ],\n        \"semantic_type\": \"\",\n        \"description\": \"\"\n      }\n    }\n  ]\n}"
            }
          },
          "metadata": {},
          "execution_count": 83
        }
      ]
    },
    {
      "cell_type": "code",
      "source": [
        "import matplotlib.pyplot as plt\n",
        "\n",
        "# Sort by prediction\n",
        "top = merged_df.sort_values(\"prediction\", ascending=False).head(10)\n",
        "\n",
        "# Plot\n",
        "plt.figure(figsize=(10, 5))\n",
        "plt.bar(top[\"formula\"], top[\"prediction\"], color='skyblue')\n",
        "plt.xticks(rotation=45)\n",
        "plt.ylabel(\"Predicted value\")\n",
        "plt.title(\"Top 10 Predicted Materials by Formula\")\n",
        "plt.tight_layout()\n",
        "plt.show()\n"
      ],
      "metadata": {
        "colab": {
          "base_uri": "https://localhost:8080/",
          "height": 437
        },
        "id": "Gfwa4SjSMJS2",
        "outputId": "dc2783e5-0cdd-437a-fb1a-3686c697d864"
      },
      "execution_count": 84,
      "outputs": [
        {
          "output_type": "display_data",
          "data": {
            "text/plain": [
              "<Figure size 1000x500 with 1 Axes>"
            ],
            "image/png": "[encoded data removed]"
          },
          "metadata": {}
        }
      ]
    }
  ],
  "metadata": {
    "colab": {
      "provenance": [],
      "mount_file_id": "1in-A5nD51PTj0rKEUNcdy7ArLbt1FLQn",
      "authorship_tag": "ABX9TyPh1rODQHUpVLiiBeFY6l2g",
      "include_colab_link": true
    },
    "kernelspec": {
      "display_name": "Python 3",
      "name": "python3"
    },
    "language_info": {
      "name": "python"
    }
  },
  "nbformat": 4,
  "nbformat_minor": 0
}