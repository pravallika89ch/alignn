{
  "cells": [
    {
      "cell_type": "markdown",
      "metadata": {
        "id": "view-in-github",
        "colab_type": "text"
      },
      "source": [
        "<a href=\"https://colab.research.google.com/github/pravallika89ch/alignn/blob/main/internship.ipynb\" target=\"_parent\"><img src=\"https://colab.research.google.com/assets/colab-badge.svg\" alt=\"Open In Colab\"/></a>"
      ]
    },
    {
      "cell_type": "code",
      "execution_count": 15,
      "metadata": {
        "colab": {
          "base_uri": "https://localhost:8080/"
        },
        "id": "nhuftlj87jMe",
        "outputId": "dccb080f-b316-4214-9cd4-f1ef1f63bc3e"
      },
      "outputs": [
        {
          "output_type": "stream",
          "name": "stdout",
          "text": [
            "Drive already mounted at /content/drive; to attempt to forcibly remount, call drive.mount(\"/content/drive\", force_remount=True).\n"
          ]
        }
      ],
      "source": [
        "from google.colab import drive\n",
        "drive.mount('/content/drive')\n"
      ]
    },
    {
      "cell_type": "code",
      "execution_count": 16,
      "metadata": {
        "colab": {
          "base_uri": "https://localhost:8080/"
        },
        "id": "QfDm6Bh8O45E",
        "outputId": "52fb4587-da16-4c89-87aa-3706e0e1ab98"
      },
      "outputs": [
        {
          "output_type": "stream",
          "name": "stdout",
          "text": [
            "✨🍰✨ Everything looks OK!\n"
          ]
        }
      ],
      "source": [
        "!pip install -q condacolab\n",
        "import condacolab\n",
        "condacolab.install()\n"
      ]
    },
    {
      "cell_type": "code",
      "source": [
        "import os\n",
        "os.environ[\"MPLBACKEND\"] = \"Agg\"\n"
      ],
      "metadata": {
        "id": "6yJDLfu7kbJK"
      },
      "execution_count": 17,
      "outputs": []
    },
    {
      "cell_type": "code",
      "execution_count": 18,
      "metadata": {
        "colab": {
          "base_uri": "https://localhost:8080/"
        },
        "id": "-X2tWj7UQi3Y",
        "outputId": "3be93aa3-481d-430f-9875-edbfff69c072"
      },
      "outputs": [
        {
          "output_type": "stream",
          "name": "stdout",
          "text": [
            "Channels:\n",
            " - conda-forge\n",
            "Platform: linux-64\n",
            "Collecting package metadata (repodata.json): - \b\b\\ \b\b| \b\b/ \b\b- \b\b\\ \b\b| \b\b/ \b\b- \b\b\\ \b\b| \b\b/ \b\b- \b\bdone\n",
            "Solving environment: | \b\b/ \b\bfailed\n",
            "\n",
            "SpecsConfigurationConflictError: Requested specs conflict with configured specs.\n",
            "  requested specs: \n",
            "    - numpy=1.23.5\n",
            "    - pandas=1.5.3\n",
            "    - python=3.10\n",
            "  pinned specs: \n",
            "    - cuda-version=12\n",
            "    - python=3.11\n",
            "    - python_abi=3.11[build=*cp311*]\n",
            "Use 'conda config --show-sources' to look for 'pinned_specs' and 'track_features'\n",
            "configuration parameters.  Pinned specs may also be defined in the file\n",
            "/usr/local/conda-meta/pinned.\n",
            "\n",
            "\n",
            "Requirement already satisfied: jarvis-tools in /usr/local/lib/python3.11/site-packages (2024.10.30)\n",
            "Requirement already satisfied: alignn in /usr/local/lib/python3.11/site-packages (2025.4.1)\n",
            "Requirement already satisfied: torchdata in /usr/local/lib/python3.11/site-packages (0.11.0)\n",
            "Requirement already satisfied: dgl==1.1.1 in /usr/local/lib/python3.11/site-packages (1.1.1)\n",
            "Requirement already satisfied: numpy>=1.14.0 in /usr/local/lib/python3.11/site-packages (from dgl==1.1.1) (1.26.4)\n",
            "Requirement already satisfied: scipy>=1.1.0 in /usr/local/lib/python3.11/site-packages (from dgl==1.1.1) (1.16.0)\n",
            "Requirement already satisfied: networkx>=2.1 in /usr/local/lib/python3.11/site-packages (from dgl==1.1.1) (3.5)\n",
            "Requirement already satisfied: requests>=2.19.0 in /usr/local/lib/python3.11/site-packages (from dgl==1.1.1) (2.32.3)\n",
            "Requirement already satisfied: tqdm in /usr/local/lib/python3.11/site-packages (from dgl==1.1.1) (4.67.1)\n",
            "Requirement already satisfied: psutil>=5.8.0 in /usr/local/lib/python3.11/site-packages (from dgl==1.1.1) (7.0.0)\n",
            "Requirement already satisfied: matplotlib>=3.0.0 in /usr/local/lib/python3.11/site-packages (from jarvis-tools) (3.10.3)\n",
            "Requirement already satisfied: joblib>=0.14.1 in /usr/local/lib/python3.11/site-packages (from jarvis-tools) (1.5.1)\n",
            "Requirement already satisfied: toolz>=0.9.0 in /usr/local/lib/python3.11/site-packages (from jarvis-tools) (1.0.0)\n",
            "Requirement already satisfied: xmltodict>=0.11.0 in /usr/local/lib/python3.11/site-packages (from jarvis-tools) (0.14.2)\n",
            "Requirement already satisfied: scikit-learn in /usr/local/lib/python3.11/site-packages (from jarvis-tools) (1.7.0)\n",
            "Requirement already satisfied: torch<=2.2.1 in /usr/local/lib/python3.11/site-packages (from alignn) (2.2.1)\n",
            "Requirement already satisfied: mpmath<=1.3.0 in /usr/local/lib/python3.11/site-packages (from alignn) (1.3.0)\n",
            "Requirement already satisfied: spglib>=2.0.2 in /usr/local/lib/python3.11/site-packages (from alignn) (2.6.0)\n",
            "Requirement already satisfied: pandas>=1.2.3 in /usr/local/lib/python3.11/site-packages (from alignn) (2.3.0)\n",
            "Requirement already satisfied: pydantic>=1.8.1 in /usr/local/lib/python3.11/site-packages (from alignn) (2.11.7)\n",
            "Requirement already satisfied: pydantic-settings in /usr/local/lib/python3.11/site-packages (from alignn) (2.10.0)\n",
            "Requirement already satisfied: flake8>=3.9.1 in /usr/local/lib/python3.11/site-packages (from alignn) (7.3.0)\n",
            "Requirement already satisfied: pycodestyle>=2.7.0 in /usr/local/lib/python3.11/site-packages (from alignn) (2.14.0)\n",
            "Requirement already satisfied: pydocstyle>=6.0.0 in /usr/local/lib/python3.11/site-packages (from alignn) (6.3.0)\n",
            "Requirement already satisfied: pyparsing<3,>=2.2.1 in /usr/local/lib/python3.11/site-packages (from alignn) (2.4.7)\n",
            "Requirement already satisfied: ase in /usr/local/lib/python3.11/site-packages (from alignn) (3.25.0)\n",
            "Requirement already satisfied: lmdb in /usr/local/lib/python3.11/site-packages (from alignn) (1.6.2)\n",
            "Requirement already satisfied: urllib3>=1.25 in /usr/local/lib/python3.11/site-packages (from torchdata) (2.3.0)\n",
            "Requirement already satisfied: mccabe<0.8.0,>=0.7.0 in /usr/local/lib/python3.11/site-packages (from flake8>=3.9.1->alignn) (0.7.0)\n",
            "Requirement already satisfied: pyflakes<3.5.0,>=3.4.0 in /usr/local/lib/python3.11/site-packages (from flake8>=3.9.1->alignn) (3.4.0)\n",
            "Requirement already satisfied: contourpy>=1.0.1 in /usr/local/lib/python3.11/site-packages (from matplotlib>=3.0.0->jarvis-tools) (1.3.2)\n",
            "Requirement already satisfied: cycler>=0.10 in /usr/local/lib/python3.11/site-packages (from matplotlib>=3.0.0->jarvis-tools) (0.12.1)\n",
            "Requirement already satisfied: fonttools>=4.22.0 in /usr/local/lib/python3.11/site-packages (from matplotlib>=3.0.0->jarvis-tools) (4.58.4)\n",
            "Requirement already satisfied: kiwisolver>=1.3.1 in /usr/local/lib/python3.11/site-packages (from matplotlib>=3.0.0->jarvis-tools) (1.4.8)\n",
            "Requirement already satisfied: packaging>=20.0 in /usr/local/lib/python3.11/site-packages (from matplotlib>=3.0.0->jarvis-tools) (24.2)\n",
            "Requirement already satisfied: pillow>=8 in /usr/local/lib/python3.11/site-packages (from matplotlib>=3.0.0->jarvis-tools) (11.2.1)\n",
            "Requirement already satisfied: python-dateutil>=2.7 in /usr/local/lib/python3.11/site-packages (from matplotlib>=3.0.0->jarvis-tools) (2.9.0.post0)\n",
            "Requirement already satisfied: pytz>=2020.1 in /usr/local/lib/python3.11/site-packages (from pandas>=1.2.3->alignn) (2025.2)\n",
            "Requirement already satisfied: tzdata>=2022.7 in /usr/local/lib/python3.11/site-packages (from pandas>=1.2.3->alignn) (2025.2)\n",
            "Requirement already satisfied: annotated-types>=0.6.0 in /usr/local/lib/python3.11/site-packages (from pydantic>=1.8.1->alignn) (0.7.0)\n",
            "Requirement already satisfied: pydantic-core==2.33.2 in /usr/local/lib/python3.11/site-packages (from pydantic>=1.8.1->alignn) (2.33.2)\n",
            "Requirement already satisfied: typing-extensions>=4.12.2 in /usr/local/lib/python3.11/site-packages (from pydantic>=1.8.1->alignn) (4.14.0)\n",
            "Requirement already satisfied: typing-inspection>=0.4.0 in /usr/local/lib/python3.11/site-packages (from pydantic>=1.8.1->alignn) (0.4.1)\n",
            "Requirement already satisfied: snowballstemmer>=2.2.0 in /usr/local/lib/python3.11/site-packages (from pydocstyle>=6.0.0->alignn) (3.0.1)\n",
            "Requirement already satisfied: charset_normalizer<4,>=2 in /usr/local/lib/python3.11/site-packages (from requests>=2.19.0->dgl==1.1.1) (3.4.1)\n",
            "Requirement already satisfied: idna<4,>=2.5 in /usr/local/lib/python3.11/site-packages (from requests>=2.19.0->dgl==1.1.1) (3.10)\n",
            "Requirement already satisfied: certifi>=2017.4.17 in /usr/local/lib/python3.11/site-packages (from requests>=2.19.0->dgl==1.1.1) (2024.12.14)\n",
            "Requirement already satisfied: threadpoolctl>=3.1.0 in /usr/local/lib/python3.11/site-packages (from scikit-learn->jarvis-tools) (3.6.0)\n",
            "Requirement already satisfied: filelock in /usr/local/lib/python3.11/site-packages (from torch<=2.2.1->alignn) (3.18.0)\n",
            "Requirement already satisfied: sympy in /usr/local/lib/python3.11/site-packages (from torch<=2.2.1->alignn) (1.14.0)\n",
            "Requirement already satisfied: jinja2 in /usr/local/lib/python3.11/site-packages (from torch<=2.2.1->alignn) (3.1.6)\n",
            "Requirement already satisfied: fsspec in /usr/local/lib/python3.11/site-packages (from torch<=2.2.1->alignn) (2025.5.1)\n",
            "Requirement already satisfied: nvidia-cuda-nvrtc-cu12==12.1.105 in /usr/local/lib/python3.11/site-packages (from torch<=2.2.1->alignn) (12.1.105)\n",
            "Requirement already satisfied: nvidia-cuda-runtime-cu12==12.1.105 in /usr/local/lib/python3.11/site-packages (from torch<=2.2.1->alignn) (12.1.105)\n",
            "Requirement already satisfied: nvidia-cuda-cupti-cu12==12.1.105 in /usr/local/lib/python3.11/site-packages (from torch<=2.2.1->alignn) (12.1.105)\n",
            "Requirement already satisfied: nvidia-cudnn-cu12==8.9.2.26 in /usr/local/lib/python3.11/site-packages (from torch<=2.2.1->alignn) (8.9.2.26)\n",
            "Requirement already satisfied: nvidia-cublas-cu12==12.1.3.1 in /usr/local/lib/python3.11/site-packages (from torch<=2.2.1->alignn) (12.1.3.1)\n",
            "Requirement already satisfied: nvidia-cufft-cu12==11.0.2.54 in /usr/local/lib/python3.11/site-packages (from torch<=2.2.1->alignn) (11.0.2.54)\n",
            "Requirement already satisfied: nvidia-curand-cu12==10.3.2.106 in /usr/local/lib/python3.11/site-packages (from torch<=2.2.1->alignn) (10.3.2.106)\n",
            "Requirement already satisfied: nvidia-cusolver-cu12==11.4.5.107 in /usr/local/lib/python3.11/site-packages (from torch<=2.2.1->alignn) (11.4.5.107)\n",
            "Requirement already satisfied: nvidia-cusparse-cu12==12.1.0.106 in /usr/local/lib/python3.11/site-packages (from torch<=2.2.1->alignn) (12.1.0.106)\n",
            "Requirement already satisfied: nvidia-nccl-cu12==2.19.3 in /usr/local/lib/python3.11/site-packages (from torch<=2.2.1->alignn) (2.19.3)\n",
            "Requirement already satisfied: nvidia-nvtx-cu12==12.1.105 in /usr/local/lib/python3.11/site-packages (from torch<=2.2.1->alignn) (12.1.105)\n",
            "Requirement already satisfied: triton==2.2.0 in /usr/local/lib/python3.11/site-packages (from torch<=2.2.1->alignn) (2.2.0)\n",
            "Requirement already satisfied: nvidia-nvjitlink-cu12 in /usr/local/lib/python3.11/site-packages (from nvidia-cusolver-cu12==11.4.5.107->torch<=2.2.1->alignn) (12.9.86)\n",
            "Requirement already satisfied: python-dotenv>=0.21.0 in /usr/local/lib/python3.11/site-packages (from pydantic-settings->alignn) (1.1.0)\n",
            "Requirement already satisfied: six>=1.5 in /usr/local/lib/python3.11/site-packages (from python-dateutil>=2.7->matplotlib>=3.0.0->jarvis-tools) (1.17.0)\n",
            "Requirement already satisfied: MarkupSafe>=2.0 in /usr/local/lib/python3.11/site-packages (from jinja2->torch<=2.2.1->alignn) (3.0.2)\n"
          ]
        }
      ],
      "source": [
        "!conda install -y numpy=1.23.5 pandas=1.5.3 python=3.10\n",
        "!pip install jarvis-tools alignn torchdata dgl==1.1.1\n",
        "\n"
      ]
    },
    {
      "cell_type": "code",
      "execution_count": 19,
      "metadata": {
        "colab": {
          "base_uri": "https://localhost:8080/"
        },
        "id": "YGMI6eL4Q4tq",
        "outputId": "ca6ac68c-f60c-4c59-f4e4-ecf807684b8e"
      },
      "outputs": [
        {
          "output_type": "stream",
          "name": "stdout",
          "text": [
            "Dataset JSON created: co2_dataset.json\n"
          ]
        }
      ],
      "source": [
        "import pandas as pd\n",
        "import json\n",
        "import os\n",
        "from jarvis.core.atoms import Atoms\n",
        "\n",
        "# Set your folder paths\n",
        "csv_path = \"/content/drive/MyDrive/Internship/tmdc-co2-meoh/dataset/opentmdc/co2.vaspfiles/id_prop.csv\"\n",
        "vasp_folder = \"/content/drive/MyDrive/Internship/tmdc-co2-meoh/dataset/opentmdc/co2.vaspfiles\"\n",
        "output_json = \"co2_dataset.json\"\n",
        "\n",
        "# Load CSV\n",
        "df = pd.read_csv(csv_path)\n",
        "\n",
        "# Prepare dataset list\n",
        "dataset = []\n",
        "for i, row in df.iterrows():\n",
        "    vasp_file = os.path.join(vasp_folder, row['id'])\n",
        "    atoms = Atoms.from_poscar(vasp_file)\n",
        "    dataset.append({\n",
        "        \"structure\": atoms.to_dict(),\n",
        "        \"target\": float(row['adsorption_energy (eV)']),\n",
        "        \"jid\": row['id']\n",
        "    })\n",
        "\n",
        "# Save JSON\n",
        "with open(output_json, \"w\") as f:\n",
        "    json.dump(dataset, f, indent=2)\n",
        "\n",
        "print(\"Dataset JSON created:\", output_json)"
      ]
    },
    {
      "cell_type": "code",
      "execution_count": 20,
      "metadata": {
        "colab": {
          "base_uri": "https://localhost:8080/"
        },
        "id": "XxrMOxDuSiDG",
        "outputId": "f64f1e9e-ca79-4111-9922-e570958b7879"
      },
      "outputs": [
        {
          "output_type": "stream",
          "name": "stdout",
          "text": [
            "Fixed file written as co2_dataset_fixed.json\n"
          ]
        }
      ],
      "source": [
        "import json\n",
        "\n",
        "# Load the original file\n",
        "with open(\"co2_dataset.json\", \"r\") as f:\n",
        "    data = json.load(f)\n",
        "\n",
        "# Fix structure ➝ atoms\n",
        "for entry in data:\n",
        "    entry[\"atoms\"] = entry.pop(\"structure\")\n",
        "\n",
        "# Save it back\n",
        "with open(\"co2_dataset_fixed.json\", \"w\") as f:\n",
        "    json.dump(data, f, indent=2)\n",
        "\n",
        "print(\"Fixed file written as co2_dataset_fixed.json\")"
      ]
    },
    {
      "cell_type": "code",
      "execution_count": 21,
      "metadata": {
        "colab": {
          "base_uri": "https://localhost:8080/"
        },
        "id": "Rrziv22ESoGz",
        "outputId": "8e13e96d-56bf-45f0-9820-9643f453e8aa"
      },
      "outputs": [
        {
          "output_type": "stream",
          "name": "stdout",
          "text": [
            "✅ train/val/test JSON files created.\n"
          ]
        }
      ],
      "source": [
        "import json, random\n",
        "\n",
        "with open(\"co2_dataset_fixed.json\") as f:\n",
        "    data = json.load(f)\n",
        "\n",
        "# Shuffle for randomness\n",
        "random.shuffle(data)\n",
        "\n",
        "# Split\n",
        "train, val, test = data[:30], data[30:33], data[33:36]\n",
        "\n",
        "# Save\n",
        "with open(\"train.json\", \"w\") as f: json.dump(train, f, indent=2)\n",
        "with open(\"val.json\", \"w\") as f: json.dump(val, f, indent=2)\n",
        "with open(\"test.json\", \"w\") as f: json.dump(test, f, indent=2)\n",
        "\n",
        "print(\"✅ train/val/test JSON files created.\")"
      ]
    },
    {
      "cell_type": "code",
      "execution_count": 22,
      "metadata": {
        "colab": {
          "base_uri": "https://localhost:8080/"
        },
        "id": "CC31tvtmStY5",
        "outputId": "5dca1c85-556f-4b1c-ed5c-ecac75b23429"
      },
      "outputs": [
        {
          "output_type": "stream",
          "name": "stdout",
          "text": [
            "✅ Total training samples: 30\n"
          ]
        }
      ],
      "source": [
        "import json\n",
        "\n",
        "with open(\"train.json\", \"r\") as f:\n",
        "    train_data = json.load(f)\n",
        "\n",
        "print(f\"✅ Total training samples: {len(train_data)}\")\n"
      ]
    },
    {
      "cell_type": "code",
      "source": [
        "import os\n",
        "import json\n",
        "import lmdb\n",
        "import pickle\n",
        "from tqdm import tqdm\n",
        "\n",
        "# Paths\n",
        "json_file = \"co2_dataset_fixed.json\"\n",
        "lmdb_path = \"co2_lmdb_dataset\"\n",
        "\n",
        "# Load JSON\n",
        "with open(json_file, \"r\") as f:\n",
        "    data = json.load(f)\n",
        "\n",
        "# Prepare LMDB directory\n",
        "os.makedirs(lmdb_path, exist_ok=True)\n",
        "\n",
        "env = lmdb.open(lmdb_path, map_size=1 << 40)\n",
        "\n",
        "with env.begin(write=True) as txn:\n",
        "    for idx, item in tqdm(enumerate(data), total=len(data)):\n",
        "        txn.put(str(idx).encode(), pickle.dumps(item))\n",
        "\n",
        "    # Save length\n",
        "    txn.put(b\"__len__\", pickle.dumps(len(data)))\n",
        "    # Save keys\n",
        "    keys = [str(i).encode() for i in range(len(data))]\n",
        "    txn.put(b\"__keys__\", pickle.dumps(keys))\n",
        "\n",
        "env.close()\n",
        "\n",
        "print(f\"✅ LMDB saved at: {lmdb_path}\")\n"
      ],
      "metadata": {
        "colab": {
          "base_uri": "https://localhost:8080/"
        },
        "id": "uZkpsKVfQ1RT",
        "outputId": "0de21c12-9164-4e2a-d501-d99a039884d0"
      },
      "execution_count": 24,
      "outputs": [
        {
          "output_type": "stream",
          "name": "stderr",
          "text": [
            "100%|██████████| 36/36 [00:00<00:00, 12915.49it/s]"
          ]
        },
        {
          "output_type": "stream",
          "name": "stdout",
          "text": [
            "✅ LMDB saved at: co2_lmdb_dataset\n"
          ]
        },
        {
          "output_type": "stream",
          "name": "stderr",
          "text": [
            "\n"
          ]
        }
      ]
    },
    {
      "cell_type": "markdown",
      "source": [],
      "metadata": {
        "id": "zZZABoobUrLJ"
      }
    },
    {
      "cell_type": "code",
      "source": [
        "config= {\n",
        "  \"version\": \"1.0\",\n",
        "  \"dataset\": \"co2_lmdb_dataset\",\n",
        "  \"dataset\": \"user_data\",\n",
        "  \"use_lmdb\": True,\n",
        "  \"target\": \"target\",\n",
        "  \"id_tag\": \"jid\",\n",
        "  \"atom_features\": \"cgcnn\",\n",
        "  \"neighbor_strategy\": \"k-nearest\",\n",
        "  \"dtype\": \"float32\",\n",
        "  \"random_seed\": 42,\n",
        "  \"n_train\": None,\n",
        "  \"n_val\": None,\n",
        "  \"n_test\": None,\n",
        "  \"train_ratio\": 0.8,\n",
        "  \"val_ratio\": 0.1,\n",
        "  \"test_ratio\": 0.1,\n",
        "  \"epochs\": 100,\n",
        "  \"batch_size\": 16,\n",
        "  \"weight_decay\": 1e-5,\n",
        "  \"learning_rate\": 0.001,\n",
        "  \"warmup_steps\": 2000,\n",
        "  \"criterion\": \"mse\",\n",
        "  \"optimizer\": \"adamw\",\n",
        "  \"scheduler\": \"onecycle\",\n",
        "  \"pin_memory\": False,\n",
        "  \"save_dataloader\": False,\n",
        "  \"write_checkpoint\": True,\n",
        "  \"write_predictions\": True,\n",
        "  \"store_outputs\": True,\n",
        "  \"progress\": True,\n",
        "  \"log_tensorboard\": False,\n",
        "  \"standard_scalar_and_pca\": False,\n",
        "  \"use_canonize\": True,\n",
        "  \"compute_line_graph\": True,\n",
        "  \"num_workers\": 2,\n",
        "  \"cutoff\": 8.0,\n",
        "  \"cutoff_extra\": 3.0,\n",
        "  \"max_neighbors\": 12,\n",
        "  \"keep_data_order\": True,\n",
        "  \"normalize_graph_level_loss\": False,\n",
        "  \"distributed\": False,\n",
        "  \"data_parallel\": False,\n",
        "  \"n_early_stopping\": None,\n",
        "  \"output_dir\": \"TMDC_Results\",\n",
        "  \"model\": {\n",
        "    \"name\": \"alignn_atomwise\",\n",
        "    \"alignn_layers\": 2,\n",
        "    \"gcn_layers\": 2,\n",
        "    \"atom_input_features\": 92,\n",
        "    \"edge_input_features\": 80,\n",
        "    \"triplet_input_features\": 40,\n",
        "    \"embedding_features\": 64,\n",
        "    \"hidden_features\": 64,\n",
        "    \"output_features\": 1,\n",
        "    \"grad_multiplier\": -1,\n",
        "    \"calculate_gradient\": True,\n",
        "    \"atomwise_output_features\": 0,\n",
        "    \"graphwise_weight\": 1.0,\n",
        "    \"gradwise_weight\": 1.0,\n",
        "    \"stresswise_weight\": 0.0,\n",
        "    \"atomwise_weight\": 0.0,\n",
        "    \"link\": \"identity\",\n",
        "    \"zero_inflated\": False,\n",
        "    \"classification\": False,\n",
        "    \"force_mult_natoms\": False,\n",
        "    \"energy_mult_natoms\": True,\n",
        "    \"include_pos_deriv\": False,\n",
        "    \"use_cutoff_function\": False,\n",
        "    \"inner_cutoff\": 3.0,\n",
        "    \"stress_multiplier\": 1.0,\n",
        "    \"add_reverse_forces\": True,\n",
        "    \"lg_on_fly\": True,\n",
        "    \"batch_stress\": True,\n",
        "    \"multiply_cutoff\": False,\n",
        "    \"use_penalty\": True,\n",
        "    \"extra_features\": 0,\n",
        "    \"exponent\": 5,\n",
        "    \"penalty_factor\": 0.1,\n",
        "    \"penalty_threshold\": 1.0,\n",
        "    \"additional_output_features\": 0,\n",
        "    \"additional_output_weight\": 0.0\n",
        "  }\n",
        "}\n"
      ],
      "metadata": {
        "id": "A8ofQjZcW3Wg"
      },
      "execution_count": 36,
      "outputs": []
    },
    {
      "cell_type": "code",
      "source": [
        "import json\n",
        "\n",
        "with open(\"configfile.json\", \"w\") as f:\n",
        "    json.dump(config, f, indent=2)\n",
        "\n",
        "print(\"✅ Config saved successfully!\")\n"
      ],
      "metadata": {
        "colab": {
          "base_uri": "https://localhost:8080/"
        },
        "id": "uk9RX-dPbUv7",
        "outputId": "bac9a694-9f4b-433f-e9bf-55545919bdc3"
      },
      "execution_count": 35,
      "outputs": [
        {
          "output_type": "stream",
          "name": "stdout",
          "text": [
            "✅ Config saved successfully!\n"
          ]
        }
      ]
    },
    {
      "cell_type": "code",
      "execution_count": null,
      "metadata": {
        "colab": {
          "base_uri": "https://localhost:8080/"
        },
        "id": "n0koQAolUTJP",
        "outputId": "2030ae23-9452-4ce3-f4fa-99af7ed997d5"
      },
      "outputs": [
        {
          "output_type": "stream",
          "name": "stdout",
          "text": [
            "env: MPLBACKEND=Agg\n"
          ]
        }
      ],
      "source": [
        "%env MPLBACKEND=Agg\n"
      ]
    },
    {
      "cell_type": "code",
      "execution_count": null,
      "metadata": {
        "colab": {
          "base_uri": "https://localhost:8080/"
        },
        "id": "7STL6QgLVrCm",
        "outputId": "e1c8c429-5816-436a-fdd0-e886dccaf511"
      },
      "outputs": [
        {
          "output_type": "stream",
          "name": "stdout",
          "text": [
            "Cloning into 'alignn'...\n",
            "remote: Enumerating objects: 5317, done.\u001b[K\n",
            "remote: Counting objects: 100% (1638/1638), done.\u001b[K\n",
            "remote: Compressing objects: 100% (550/550), done.\u001b[K\n",
            "remote: Total 5317 (delta 1337), reused 1118 (delta 1087), pack-reused 3679 (from 3)\u001b[K\n",
            "Receiving objects: 100% (5317/5317), 155.11 MiB | 29.58 MiB/s, done.\n",
            "Resolving deltas: 100% (3243/3243), done.\n"
          ]
        }
      ],
      "source": [
        "!git clone https://github.com/usnistgov/alignn.git"
      ]
    },
    {
      "cell_type": "code",
      "execution_count": null,
      "metadata": {
        "id": "k1xLs4zFbBlH"
      },
      "outputs": [],
      "source": [
        "import os\n",
        "os.environ[\"MPLBACKEND\"] = \"Agg\"\n",
        "import matplotlib\n",
        "matplotlib.use(\"Agg\")\n"
      ]
    },
    {
      "cell_type": "code",
      "source": [
        "!python /content/alignn/alignn/train.py /content/configfile.json\n",
        "\n"
      ],
      "metadata": {
        "colab": {
          "base_uri": "https://localhost:8080/"
        },
        "id": "O96-4uAzKqGa",
        "outputId": "d0130f7b-3cd2-43bb-8d2f-3314585a379e"
      },
      "execution_count": 44,
      "outputs": [
        {
          "output_type": "stream",
          "name": "stdout",
          "text": [
            "✅ alignn loaded from: /content/alignn/alignn/__init__.py\n",
            "fatal: not a git repository (or any of the parent directories): .git\n",
            "/content/alignn/alignn/train.py:79: PydanticDeprecatedSince20: The `dict` method is deprecated; use `model_dump` instead. Deprecated in Pydantic V2.0 to be removed in V3.0. See Pydantic V2 Migration Guide at https://errors.pydantic.dev/2.11/migration/\n",
            "  print(\"config:\", config.dict())\n",
            "config: {'version': 'NA', 'dataset': 'user_data', 'target': 'exfoliation_energy', 'atom_features': 'cgcnn', 'neighbor_strategy': 'k-nearest', 'id_tag': 'jid', 'dtype': 'float32', 'random_seed': 123, 'classification_threshold': None, 'n_val': 32, 'n_test': None, 'n_train': 32, 'train_ratio': 0.8, 'val_ratio': 0.1, 'test_ratio': 0.1, 'target_multiplication_factor': None, 'epochs': 10, 'batch_size': 16, 'weight_decay': 0.0, 'learning_rate': 0.01, 'filename': 'sample', 'warmup_steps': 2000, 'criterion': 'mse', 'optimizer': 'adamw', 'scheduler': 'onecycle', 'pin_memory': False, 'save_dataloader': False, 'write_checkpoint': True, 'write_predictions': True, 'store_outputs': True, 'progress': True, 'log_tensorboard': False, 'standard_scalar_and_pca': False, 'use_canonize': True, 'compute_line_graph': True, 'num_workers': 4, 'cutoff': 8.0, 'cutoff_extra': 3.0, 'max_neighbors': 12, 'keep_data_order': True, 'normalize_graph_level_loss': False, 'distributed': False, 'data_parallel': False, 'n_early_stopping': None, 'output_dir': '/content', 'use_lmdb': True, 'model': {'name': 'alignn_atomwise', 'alignn_layers': 2, 'gcn_layers': 2, 'atom_input_features': 1, 'edge_input_features': 80, 'triplet_input_features': 40, 'embedding_features': 64, 'hidden_features': 64, 'output_features': 1, 'grad_multiplier': -1, 'calculate_gradient': True, 'atomwise_output_features': 0, 'graphwise_weight': 1.0, 'gradwise_weight': 1.0, 'stresswise_weight': 0.0, 'atomwise_weight': 0.0, 'link': 'identity', 'zero_inflated': False, 'classification': False, 'force_mult_natoms': False, 'energy_mult_natoms': True, 'include_pos_deriv': False, 'use_cutoff_function': False, 'inner_cutoff': 3.0, 'stress_multiplier': 1.0, 'add_reverse_forces': True, 'lg_on_fly': True, 'batch_stress': True, 'multiply_cutoff': False, 'use_penalty': True, 'extra_features': 0, 'exponent': 5, 'penalty_factor': 0.1, 'penalty_threshold': 1.0, 'additional_output_features': 0, 'additional_output_weight': 0.0}}\n",
            "/content/alignn/alignn/train.py:86: PydanticDeprecatedSince20: The `dict` method is deprecated; use `model_dump` instead. Deprecated in Pydantic V2.0 to be removed in V3.0. See Pydantic V2 Migration Guide at https://errors.pydantic.dev/2.11/migration/\n",
            "  tmp = config.dict()\n",
            "{'atom_features': 'cgcnn',\n",
            " 'batch_size': 16,\n",
            " 'classification_threshold': None,\n",
            " 'compute_line_graph': True,\n",
            " 'criterion': 'mse',\n",
            " 'cutoff': 8.0,\n",
            " 'cutoff_extra': 3.0,\n",
            " 'data_parallel': False,\n",
            " 'dataset': 'user_data',\n",
            " 'distributed': False,\n",
            " 'dtype': 'float32',\n",
            " 'epochs': 10,\n",
            " 'filename': 'sample',\n",
            " 'id_tag': 'jid',\n",
            " 'keep_data_order': True,\n",
            " 'learning_rate': 0.01,\n",
            " 'log_tensorboard': False,\n",
            " 'max_neighbors': 12,\n",
            " 'model': {'add_reverse_forces': True,\n",
            "           'additional_output_features': 0,\n",
            "           'additional_output_weight': 0.0,\n",
            "           'alignn_layers': 2,\n",
            "           'atom_input_features': 1,\n",
            "           'atomwise_output_features': 0,\n",
            "           'atomwise_weight': 0.0,\n",
            "           'batch_stress': True,\n",
            "           'calculate_gradient': True,\n",
            "           'classification': False,\n",
            "           'edge_input_features': 80,\n",
            "           'embedding_features': 64,\n",
            "           'energy_mult_natoms': True,\n",
            "           'exponent': 5,\n",
            "           'extra_features': 0,\n",
            "           'force_mult_natoms': False,\n",
            "           'gcn_layers': 2,\n",
            "           'grad_multiplier': -1,\n",
            "           'gradwise_weight': 1.0,\n",
            "           'graphwise_weight': 1.0,\n",
            "           'hidden_features': 64,\n",
            "           'include_pos_deriv': False,\n",
            "           'inner_cutoff': 3.0,\n",
            "           'lg_on_fly': True,\n",
            "           'link': 'identity',\n",
            "           'multiply_cutoff': False,\n",
            "           'name': 'alignn_atomwise',\n",
            "           'output_features': 1,\n",
            "           'penalty_factor': 0.1,\n",
            "           'penalty_threshold': 1.0,\n",
            "           'stress_multiplier': 1.0,\n",
            "           'stresswise_weight': 0.0,\n",
            "           'triplet_input_features': 40,\n",
            "           'use_cutoff_function': False,\n",
            "           'use_penalty': True,\n",
            "           'zero_inflated': False},\n",
            " 'n_early_stopping': None,\n",
            " 'n_test': None,\n",
            " 'n_train': 32,\n",
            " 'n_val': 32,\n",
            " 'neighbor_strategy': 'k-nearest',\n",
            " 'normalize_graph_level_loss': False,\n",
            " 'num_workers': 4,\n",
            " 'optimizer': 'adamw',\n",
            " 'output_dir': '/content',\n",
            " 'pin_memory': False,\n",
            " 'progress': True,\n",
            " 'random_seed': 123,\n",
            " 'save_dataloader': False,\n",
            " 'scheduler': 'onecycle',\n",
            " 'standard_scalar_and_pca': False,\n",
            " 'store_outputs': True,\n",
            " 'target': 'exfoliation_energy',\n",
            " 'target_multiplication_factor': None,\n",
            " 'test_ratio': 0.1,\n",
            " 'train_ratio': 0.8,\n",
            " 'use_canonize': True,\n",
            " 'use_lmdb': True,\n",
            " 'val_ratio': 0.1,\n",
            " 'version': 'NA',\n",
            " 'warmup_steps': 2000,\n",
            " 'weight_decay': 0.0,\n",
            " 'write_checkpoint': True,\n",
            " 'write_predictions': True}\n",
            "Using LMDB dataset.\n",
            "🔹 Loading LMDB dataset from: sample\n",
            "Traceback (most recent call last):\n",
            "  File \"/content/alignn/alignn/train.py\", line 892, in <module>\n",
            "    history = train_dgl(config)\n",
            "              ^^^^^^^^^^^^^^^^^\n",
            "  File \"/content/alignn/alignn/train.py\", line 123, in train_dgl\n",
            "    ) = get_train_val_loaders(\n",
            "        ^^^^^^^^^^^^^^^^^^^^^^\n",
            "  File \"/content/alignn/alignn/data.py\", line 282, in get_train_val_loaders\n",
            "    id_train, id_val, id_test = get_id_train_val_test(\n",
            "                                ^^^^^^^^^^^^^^^^^^^^^^\n",
            "  File \"/content/alignn/alignn/data.py\", line 93, in get_id_train_val_test\n",
            "    raise ValueError(\n",
            "ValueError: ('Check total number of samples.', 64, '>', 0)\n"
          ]
        }
      ]
    }
  ],
  "metadata": {
    "colab": {
      "gpuType": "T4",
      "provenance": [],
      "mount_file_id": "1diX8DjT0lQv5d_rISeQQQSHCcMDliqDD",
      "authorship_tag": "ABX9TyPICgMz9mAB5xqYd0DiaDy2",
      "include_colab_link": true
    },
    "kernelspec": {
      "display_name": "Python 3",
      "name": "python3"
    },
    "language_info": {
      "name": "python"
    }
  },
  "nbformat": 4,
  "nbformat_minor": 0
}